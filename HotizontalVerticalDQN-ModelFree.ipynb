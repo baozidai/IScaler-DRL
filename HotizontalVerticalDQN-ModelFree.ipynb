{
 "cells": [
  {
   "cell_type": "markdown",
   "metadata": {},
   "source": [
    " * ### AI-based Resource Provisioning of IoE Services in 6G: A Deep Reinforcement Learning Approach\n",
    " * ### Date: 13-03-2021\n",
    " * ### Author: Hani Sami (hani.sami@mail.concordia.ca)\n",
    " * ### IEEE TNSM 2021"
   ]
  },
  {
   "cell_type": "code",
   "execution_count": 2,
   "metadata": {},
   "outputs": [],
   "source": [
    "import time\n",
    "import random\n",
    "import pandas as pd\n",
    "import matplotlib.pyplot as plt\n",
    "import numpy as np\n",
    "from datetime import datetime, date\n",
    "from collections import OrderedDict\n",
    "import random\n",
    "import math\n",
    "import sys\n",
    "import pickle\n",
    "import seaborn as sns\n",
    "import itertools\n",
    "import copy"
   ]
  },
  {
   "cell_type": "code",
   "execution_count": 3,
   "metadata": {},
   "outputs": [],
   "source": [
    "from tensorflow.keras.models import Sequential\n",
    "from tensorflow.keras.layers import Dense\n",
    "from tensorflow.keras import initializers\n",
    "from tensorflow.keras import optimizers\n",
    "from tensorflow.keras import losses"
   ]
  },
  {
   "cell_type": "markdown",
   "metadata": {},
   "source": [
    "# Data Preparation"
   ]
  },
  {
   "cell_type": "markdown",
   "metadata": {},
   "source": [
    "## Input"
   ]
  },
  {
   "cell_type": "code",
   "execution_count": 4,
   "metadata": {},
   "outputs": [],
   "source": [
    "# Each host has the following information:\n",
    "# available cpu, memory, disk, time available to serve\n",
    "hosts = [\n",
    "    [1.0, 1.0, 1.0, 10],\n",
    "    [0.8, 0.5, 0.5, 20],\n",
    "    [0.9, 0.9, 0.9, 30]\n",
    "]"
   ]
  },
  {
   "cell_type": "code",
   "execution_count": 5,
   "metadata": {},
   "outputs": [],
   "source": [
    "# Each container has the following information\n",
    "# Required cpu, memory, disk, and priority level\n",
    "\n",
    "container = [[0.5, 0.2, 0.2, 0],\n",
    "            [0.3, 0.2, 0.2, 1],\n",
    "            [0.25,0.25, 0.25, 0]]"
   ]
  },
  {
   "cell_type": "markdown",
   "metadata": {},
   "source": [
    "## Action Space"
   ]
  },
  {
   "cell_type": "code",
   "execution_count": 6,
   "metadata": {},
   "outputs": [],
   "source": [
    "def getActionSpace(limit):\n",
    "    actions = []\n",
    "    for i in range(limit):\n",
    "        actions.append((i+1) * -1)\n",
    "    actions.append(0)\n",
    "    for i in range(limit):\n",
    "        actions.append(i+1)\n",
    "    for i in range(9):\n",
    "        actions.append(round((i+1)*0.1, 2))\n",
    "    for i in range(9):\n",
    "        actions.append(round((i+1)*-0.1, 2))\n",
    "    return actions\n",
    "    "
   ]
  },
  {
   "cell_type": "code",
   "execution_count": 7,
   "metadata": {},
   "outputs": [],
   "source": [
    "actions = getActionSpace(1)"
   ]
  },
  {
   "cell_type": "markdown",
   "metadata": {},
   "source": [
    "## Read demands and available resource data from Google Cluster Usage Trace dataset:\n",
    "https://drive.google.com/file/d/10r6cnJ5cJ89fPWCgj7j4LtLBqYN9RiI9/view\n",
    "\n",
    "### A sample from this dataset is used below"
   ]
  },
  {
   "cell_type": "code",
   "execution_count": 52,
   "metadata": {},
   "outputs": [],
   "source": [
    "responseList = [[0.2, 0.3, 0.1],\n",
    "               [0.4, 0.2, 0.2],\n",
    "               [0.3, 0.3,0.3],\n",
    "               [0.3, 0.3, 0.4],\n",
    "               [0.1, 0.1, 0.2]]"
   ]
  },
  {
   "cell_type": "code",
   "execution_count": 37,
   "metadata": {},
   "outputs": [],
   "source": [
    "resourceLoadHosts = [[0.21, 0.21,0.32],\n",
    "                    [0.19, 0.15, 0.21],\n",
    "                    [0.12, 0.25, 0.3],\n",
    "                    [0.32, 0.27, 0.12],\n",
    "                    [0.26, 0.36, 0.1]]"
   ]
  },
  {
   "cell_type": "markdown",
   "metadata": {},
   "source": [
    "# Common Functions"
   ]
  },
  {
   "cell_type": "markdown",
   "metadata": {},
   "source": [
    "## Retrieve the next state following the current state and action taken"
   ]
  },
  {
   "cell_type": "code",
   "execution_count": 59,
   "metadata": {},
   "outputs": [],
   "source": [
    "def getNextState(timestep, responsesList, resourceLoadHosts, state, action, hosts, container):\n",
    "    placement = copy.deepcopy(state[1])\n",
    "    newLoad = state[2]\n",
    "    p = state[3]\n",
    "    q = state[4]\n",
    "    newResponse = state[0]\n",
    "    placement[state[4]][state[3]] = round(placement[state[4]][state[3]] + action, 2)\n",
    "    newResponseFinal = responsesList[timestep%5]\n",
    "    newLoadFinal = resourceLoadHosts[timestep%5]\n",
    "    if q + 1 == len(hosts):\n",
    "        q = 0   \n",
    "        if p + 1 == len(container):\n",
    "            p = 0\n",
    "            newResponse = responsesList[timestep%5]\n",
    "            newLoad = resourceLoadHosts[timestep%5]\n",
    "        else:\n",
    "            p = p + 1\n",
    "    else:\n",
    "        q = q + 1\n",
    "    nextState = [newResponse, placement, newLoad, p, q]\n",
    "    \n",
    "    return nextState"
   ]
  },
  {
   "cell_type": "markdown",
   "metadata": {},
   "source": [
    "## Check if the selected action is feasible"
   ]
  },
  {
   "cell_type": "code",
   "execution_count": 12,
   "metadata": {},
   "outputs": [],
   "source": [
    "def isActionFeasible(state, previousState, action, container, hosts):\n",
    "    possible = True\n",
    "    if (previousState[1][previousState[4]][previousState[3]] + action) < 0:\n",
    "        possible = False\n",
    "    totalPlac = 0.0\n",
    "    for plan in previousState[1][previousState[4]]:\n",
    "        totalPlac = totalPlac + plan\n",
    "    if totalPlac + action < 0:\n",
    "        possible = False\n",
    "    return possible"
   ]
  },
  {
   "cell_type": "markdown",
   "metadata": {},
   "source": [
    "## Retrieve the list of possible actions for the current state"
   ]
  },
  {
   "cell_type": "code",
   "execution_count": 13,
   "metadata": {},
   "outputs": [],
   "source": [
    "def getPossibleActionsFromState(state, container, hosts, actions):\n",
    "    #check the +1 and if it is enough for the resources\n",
    "    possibleActions = []\n",
    "    for action in actions:\n",
    "        possible = True\n",
    "        if (state[1][state[4]][state[3]] + action) < 0:\n",
    "            possible = False \n",
    "        totalPlac = 0.0\n",
    "        for plan in state[1][state[4]]:\n",
    "            totalPlac = totalPlac + plan\n",
    "        if totalPlac + action < 0 or totalPlac + action > 2 * (1 - state[2][state[4]]):\n",
    "            possible = False\n",
    "        if possible:\n",
    "            possibleActions.append(action)\n",
    "    return possibleActions"
   ]
  },
  {
   "cell_type": "markdown",
   "metadata": {},
   "source": [
    "# Cost Function "
   ]
  },
  {
   "cell_type": "code",
   "execution_count": 54,
   "metadata": {},
   "outputs": [],
   "source": [
    "def resourceCost(state, previousState, action, container, hosts):\n",
    "    summ = 0\n",
    "    for i in range(len(state[1])):\n",
    "        hostUsage = 0\n",
    "        usage = 0\n",
    "        for j in range(len(container)):\n",
    "            hostUsage = hostUsage + (state[1][i][j])\n",
    "            if hostUsage > state[0][j]:\n",
    "                usage = usage + (hostUsage - state[0][j])\n",
    "        if hostUsage < 0 or hostUsage > 1 - state[2][i]:\n",
    "            summ = summ + 10\n",
    "            continue\n",
    "        \n",
    "        summ = summ + usage\n",
    "    sumAv = 0.0\n",
    "    for gg in state[2]:\n",
    "        sumAv = sumAv + (1 - gg)\n",
    "    return summ / sumAv"
   ]
  },
  {
   "cell_type": "code",
   "execution_count": 15,
   "metadata": {},
   "outputs": [],
   "source": [
    "def refreshCost(state):\n",
    "    sumPlacement = 0\n",
    "    cost = 0\n",
    "    \n",
    "    for placement in state[1]:\n",
    "        for plac in placement:\n",
    "            if plac <= 0:\n",
    "                continue\n",
    "            else:\n",
    "                sumPlacement = sumPlacement + (plac)\n",
    "    return sumPlacement / len(state[1]) * len(state[1][0])"
   ]
  },
  {
   "cell_type": "code",
   "execution_count": 16,
   "metadata": {},
   "outputs": [],
   "source": [
    "def responseCost(nextState, hosts, container):\n",
    "    cost = 0\n",
    "    for i in range(len(container)):\n",
    "        sumPlacement = 0\n",
    "        for j in range(len(nextState[1])):\n",
    "            sumPlacement = sumPlacement + nextState[1][j][i]\n",
    "\n",
    "        if sumPlacement >= nextState[0][i] or nextState[0][i] == 0 or sumPlacement < 0:\n",
    "            continue\n",
    "        maxI =  nextState[0][i]\n",
    "        cost = cost + ((maxI - (sumPlacement)) / maxI)\n",
    "\n",
    "    return cost"
   ]
  },
  {
   "cell_type": "code",
   "execution_count": 17,
   "metadata": {},
   "outputs": [],
   "source": [
    "def distanceCost(state, Hosts):\n",
    "    #get the max distance sum\n",
    "    distances = 0\n",
    "    maxSumDistance = 0\n",
    "    for i in range(len(hosts)):\n",
    "        sumPlac = 0\n",
    "        for pac in range(len(state[1][i])):\n",
    "            sumPlac = sumPlac + pac\n",
    "        if(sumPlac <= 0):\n",
    "            continue\n",
    "        distances = distances + (sumPlac * (hosts[2][3] - hosts[i][3]))\n",
    "        maxSumDistance = maxSumDistance + ((hosts[2][3]-hosts[0][3]) * sumPlac)\n",
    "    if maxSumDistance == 0:\n",
    "        return 0\n",
    "    return float(distances) / (maxSumDistance)"
   ]
  },
  {
   "cell_type": "code",
   "execution_count": 18,
   "metadata": {},
   "outputs": [],
   "source": [
    "def priorityCost(state, container):\n",
    "    totalC = 0\n",
    "    ser = 0\n",
    "    sumPlac = 0\n",
    "    for j in range(len(container)):\n",
    "        if container[j][3] == 0:\n",
    "            continue\n",
    "        ser = j\n",
    "        for i in range(len(state[1])):\n",
    "            sumPlac = sumPlac + state[1][i][j]\n",
    "    if sumPlac < state[0][ser]:\n",
    "        return (state[0][ser] - sumPlac) / state[0][ser]\n",
    "    return 0"
   ]
  },
  {
   "cell_type": "code",
   "execution_count": 19,
   "metadata": {},
   "outputs": [],
   "source": [
    "def totalCost(state, previousState, action, hosts, containers, w1, w2, w3, w5):\n",
    "    c1 = resourceCost(state, previousState, action, container, hosts) * w1\n",
    "    c2 = responseCost(state, hosts, containers) * w2\n",
    "    c3 = distanceCost(state, hosts) * w3\n",
    "    c5 = priorityCost(state, containers) * w5\n",
    "    return c1 + c2 + c3 + c5"
   ]
  },
  {
   "cell_type": "markdown",
   "metadata": {},
   "source": [
    "# DQN"
   ]
  },
  {
   "cell_type": "markdown",
   "metadata": {},
   "source": [
    "## Source and target networks initialization"
   ]
  },
  {
   "cell_type": "code",
   "execution_count": 23,
   "metadata": {},
   "outputs": [],
   "source": [
    "\n",
    "replayBuffer = []\n",
    "\n",
    "# The dimensions of the input for the source and target networks\n",
    "dimensions = len(hosts) + (len(hosts)*len(container)) + 4\n",
    "\n",
    "model = Sequential()\n",
    "model.add(Dense(32, input_dim=dimensions, activation='relu', kernel_initializer='random_normal'))\n",
    "model.add(Dense(16, activation='relu',kernel_initializer='random_normal'))\n",
    "model.add(Dense(8, activation='relu', kernel_initializer='random_normal'))\n",
    "model.add(Dense(1, activation='linear', kernel_initializer='random_normal'))\n",
    "#Initialize target action value function Qhat with weight theta- = theta\n",
    "targetModel = Sequential()\n",
    "targetModel.add(Dense(32, input_dim=dimensions, activation='relu'))\n",
    "targetModel.add(Dense(16, activation='relu'))\n",
    "targetModel.add(Dense(8, activation='relu'))\n",
    "targetModel.add(Dense(1, activation='linear'))\n",
    "#set target model weights to the model\n",
    "modelWeights = []\n",
    "for layer in model.layers: \n",
    "    modelWeights.append(layer.get_weights())\n",
    "# counterWeights = 0\n",
    "# for layer in model.layers:\n",
    "#     layer.set_weights(weights[counterWeights])\n",
    "#     counterWeights = counterWeights + 1\n",
    "counterWeights = 0\n",
    "for layer in targetModel.layers:\n",
    "    layer.set_weights(modelWeights[counterWeights])\n",
    "    counterWeights = counterWeights + 1\n",
    "huberLoss = losses.Huber()\n",
    "optimizerRMS = optimizers.RMSprop(learning_rate=0.001, rho=0.9)\n",
    "model.compile(loss=huberLoss, optimizer=optimizerRMS)\n",
    "targetModel.compile(loss=huberLoss, optimizer=optimizerRMS)"
   ]
  },
  {
   "cell_type": "markdown",
   "metadata": {},
   "source": [
    "## Common functions used in the DQN implementation"
   ]
  },
  {
   "cell_type": "code",
   "execution_count": 24,
   "metadata": {},
   "outputs": [],
   "source": [
    "def resourcesResult(pl, resources, container):\n",
    "    resultsResources = []\n",
    "    availableResources = []\n",
    "    for res in resources:\n",
    "        availableResources.append(1.0 - res)\n",
    "    for res in range(len(availableResources)):\n",
    "        cpuUsed = 0\n",
    "        for pac in range(len(container)):\n",
    "            cpuUsed = pl[res][pac]\n",
    "        resultsResources.append(cpuUsed)\n",
    "    return ([resultsResources, availableResources])"
   ]
  },
  {
   "cell_type": "code",
   "execution_count": 25,
   "metadata": {},
   "outputs": [],
   "source": [
    "def sumPlacement(pl):\n",
    "    sum = 0\n",
    "    for n in pl:\n",
    "        for pac in n:\n",
    "            sum = sum + pac\n",
    "    return sum"
   ]
  },
  {
   "cell_type": "code",
   "execution_count": 26,
   "metadata": {},
   "outputs": [],
   "source": [
    "def getEmptyPlacement(hosts, container):\n",
    "    p = []\n",
    "    for i in range(len(hosts)):\n",
    "        temp = []\n",
    "        for j in range(len(container)):\n",
    "            temp.append(0)\n",
    "        p.append(temp)\n",
    "    return p"
   ]
  },
  {
   "cell_type": "code",
   "execution_count": 63,
   "metadata": {},
   "outputs": [],
   "source": [
    "def getNewRandomState(hosts, responses, resources, container):\n",
    "    placement = getEmptyPlacement(hosts, container)\n",
    "    respRand = random.randrange(5)\n",
    "    response = responses[respRand]\n",
    "    resouRand = random.randrange(5)\n",
    "    resource = resources[resouRand]\n",
    "    return (response, placement, resource, 0, 0)"
   ]
  },
  {
   "cell_type": "code",
   "execution_count": 48,
   "metadata": {},
   "outputs": [],
   "source": [
    "def getNNInput(state, action):\n",
    "    result = []\n",
    "    result.append(state[0][0])\n",
    "    result.append(state[0][1])\n",
    "    for i in state[1]:\n",
    "        for j in i:\n",
    "            result.append(j)\n",
    "    for i in state[2]:\n",
    "        result.append(i)\n",
    "    result.append(state[3])\n",
    "    result.append(state[4])\n",
    "    return result"
   ]
  },
  {
   "cell_type": "code",
   "execution_count": 49,
   "metadata": {},
   "outputs": [],
   "source": [
    "def getRandomMiniBatchPrepareModelFit(replayBuffer, targetModel, discountFactor, actionBinary):\n",
    "    #get 1000 samples\n",
    "    randomTransitionsIndeces = random.sample(range(0, len(replayBuffer)), 60)\n",
    "    trainingDataModel = []\n",
    "    trainingDataLabelTargetModel = []\n",
    "    for index in randomTransitionsIndeces:\n",
    "        labelSample = 0.0\n",
    "        trainSample = getNNInput(replayBuffer[index][0], replayBuffer[index][1])\n",
    "        trainingDataModel.append(trainSample)\n",
    "        #get max qvalue on target network\n",
    "        if(replayBuffer[index][3][2] == 0):\n",
    "              labelSample = replayBuffer[index][2]\n",
    "        else:\n",
    "            actionTakenIndex = 0\n",
    "            minQValue = sys.maxsize\n",
    "            for actionIndex in range(len(actionBinary)):\n",
    "                nnInput = getNNInput(replayBuffer[index][3], actionBinary[actionIndex])\n",
    "                #get qvalue as output of Neural Network\n",
    "                actionQValueT = np.array([nnInput])\n",
    "                actionQValue = targetModel.predict(actionQValueT)[0][0]\n",
    "                if minQValue > actionQValue:\n",
    "                    actionTakenIndex = actionIndex\n",
    "                    minQValue = actionQValue\n",
    "            labelSample = replayBuffer[index][2] + (discountFactor * minQValue)\n",
    "        trainingDataLabelTargetModel.append(labelSample)\n",
    "    output = (trainingDataModel, trainingDataLabelTargetModel)\n",
    "    return output"
   ]
  },
  {
   "cell_type": "markdown",
   "metadata": {},
   "source": [
    "## Variables initialization used in DQN of IScaler"
   ]
  },
  {
   "cell_type": "code",
   "execution_count": 60,
   "metadata": {},
   "outputs": [],
   "source": [
    "episode = 0\n",
    "k = 0\n",
    "replayBuffer = []\n",
    "discountFactor = 0.9\n",
    "costsList = []\n",
    "costsListC1 = []\n",
    "costsListC2 = []\n",
    "costsListC3 = []\n",
    "resultsResourcesList1 = []\n",
    "resultsResponsesList1 = []\n",
    "p1=[]\n",
    "counter12 = 0\n",
    "p = 1\n",
    "state = getNewRandomState(hosts, responseList, resourceLoadHosts, container)"
   ]
  },
  {
   "cell_type": "code",
   "execution_count": 61,
   "metadata": {},
   "outputs": [
    {
     "data": {
      "text/plain": [
       "([0.1, 0.1, 0.2], [[0, 0, 0], [0, 0, 0], [0, 0, 0]], [0.26, 0.36, 0.1], 0, 0)"
      ]
     },
     "execution_count": 61,
     "metadata": {},
     "output_type": "execute_result"
    }
   ],
   "source": [
    "state"
   ]
  },
  {
   "cell_type": "markdown",
   "metadata": {},
   "source": [
    "## Main learning algorithm"
   ]
  },
  {
   "cell_type": "code",
   "execution_count": 64,
   "metadata": {
    "scrolled": true
   },
   "outputs": [
    {
     "ename": "KeyboardInterrupt",
     "evalue": "",
     "output_type": "error",
     "traceback": [
      "\u001b[0;31m---------------------------------------------------------------------------\u001b[0m",
      "\u001b[0;31mKeyboardInterrupt\u001b[0m                         Traceback (most recent call last)",
      "\u001b[0;32m<ipython-input-64-97717f4b5b81>\u001b[0m in \u001b[0;36m<module>\u001b[0;34m\u001b[0m\n\u001b[1;32m     70\u001b[0m         \u001b[0;32mif\u001b[0m \u001b[0mlen\u001b[0m\u001b[0;34m(\u001b[0m\u001b[0mreplayBuffer\u001b[0m\u001b[0;34m)\u001b[0m \u001b[0;34m>\u001b[0m \u001b[0;36m100\u001b[0m\u001b[0;34m:\u001b[0m\u001b[0;34m\u001b[0m\u001b[0;34m\u001b[0m\u001b[0m\n\u001b[1;32m     71\u001b[0m             \u001b[0;31m#get 1000 random transitions and prepare for model fit\u001b[0m\u001b[0;34m\u001b[0m\u001b[0;34m\u001b[0m\u001b[0;34m\u001b[0m\u001b[0m\n\u001b[0;32m---> 72\u001b[0;31m             \u001b[0mdataToFit\u001b[0m \u001b[0;34m=\u001b[0m \u001b[0mgetRandomMiniBatchPrepareModelFit\u001b[0m\u001b[0;34m(\u001b[0m\u001b[0mreplayBuffer\u001b[0m\u001b[0;34m,\u001b[0m \u001b[0mtargetModel\u001b[0m\u001b[0;34m,\u001b[0m \u001b[0mdiscountFactor\u001b[0m\u001b[0;34m,\u001b[0m \u001b[0mactions\u001b[0m\u001b[0;34m)\u001b[0m\u001b[0;34m\u001b[0m\u001b[0;34m\u001b[0m\u001b[0m\n\u001b[0m\u001b[1;32m     73\u001b[0m             \u001b[0;31m#fit the model\u001b[0m\u001b[0;34m\u001b[0m\u001b[0;34m\u001b[0m\u001b[0;34m\u001b[0m\u001b[0m\n\u001b[1;32m     74\u001b[0m             \u001b[0mmodel\u001b[0m\u001b[0;34m.\u001b[0m\u001b[0mfit\u001b[0m\u001b[0;34m(\u001b[0m\u001b[0mnp\u001b[0m\u001b[0;34m.\u001b[0m\u001b[0marray\u001b[0m\u001b[0;34m(\u001b[0m\u001b[0mdataToFit\u001b[0m\u001b[0;34m[\u001b[0m\u001b[0;36m0\u001b[0m\u001b[0;34m]\u001b[0m\u001b[0;34m)\u001b[0m\u001b[0;34m,\u001b[0m \u001b[0mnp\u001b[0m\u001b[0;34m.\u001b[0m\u001b[0marray\u001b[0m\u001b[0;34m(\u001b[0m\u001b[0mdataToFit\u001b[0m\u001b[0;34m[\u001b[0m\u001b[0;36m1\u001b[0m\u001b[0;34m]\u001b[0m\u001b[0;34m)\u001b[0m\u001b[0;34m,\u001b[0m \u001b[0mbatch_size\u001b[0m\u001b[0;34m=\u001b[0m\u001b[0;36m8\u001b[0m\u001b[0;34m,\u001b[0m \u001b[0mepochs\u001b[0m\u001b[0;34m=\u001b[0m\u001b[0;36m5\u001b[0m\u001b[0;34m,\u001b[0m \u001b[0mverbose\u001b[0m\u001b[0;34m=\u001b[0m\u001b[0;32mFalse\u001b[0m\u001b[0;34m)\u001b[0m\u001b[0;34m\u001b[0m\u001b[0;34m\u001b[0m\u001b[0m\n",
      "\u001b[0;32m<ipython-input-49-98d4eb1844bf>\u001b[0m in \u001b[0;36mgetRandomMiniBatchPrepareModelFit\u001b[0;34m(replayBuffer, targetModel, discountFactor, actionBinary)\u001b[0m\n\u001b[1;32m     18\u001b[0m                 \u001b[0;31m#get qvalue as output of Neural Network\u001b[0m\u001b[0;34m\u001b[0m\u001b[0;34m\u001b[0m\u001b[0;34m\u001b[0m\u001b[0m\n\u001b[1;32m     19\u001b[0m                 \u001b[0mactionQValueT\u001b[0m \u001b[0;34m=\u001b[0m \u001b[0mnp\u001b[0m\u001b[0;34m.\u001b[0m\u001b[0marray\u001b[0m\u001b[0;34m(\u001b[0m\u001b[0;34m[\u001b[0m\u001b[0mnnInput\u001b[0m\u001b[0;34m]\u001b[0m\u001b[0;34m)\u001b[0m\u001b[0;34m\u001b[0m\u001b[0;34m\u001b[0m\u001b[0m\n\u001b[0;32m---> 20\u001b[0;31m                 \u001b[0mactionQValue\u001b[0m \u001b[0;34m=\u001b[0m \u001b[0mtargetModel\u001b[0m\u001b[0;34m.\u001b[0m\u001b[0mpredict\u001b[0m\u001b[0;34m(\u001b[0m\u001b[0mactionQValueT\u001b[0m\u001b[0;34m)\u001b[0m\u001b[0;34m[\u001b[0m\u001b[0;36m0\u001b[0m\u001b[0;34m]\u001b[0m\u001b[0;34m[\u001b[0m\u001b[0;36m0\u001b[0m\u001b[0;34m]\u001b[0m\u001b[0;34m\u001b[0m\u001b[0;34m\u001b[0m\u001b[0m\n\u001b[0m\u001b[1;32m     21\u001b[0m                 \u001b[0;32mif\u001b[0m \u001b[0mminQValue\u001b[0m \u001b[0;34m>\u001b[0m \u001b[0mactionQValue\u001b[0m\u001b[0;34m:\u001b[0m\u001b[0;34m\u001b[0m\u001b[0;34m\u001b[0m\u001b[0m\n\u001b[1;32m     22\u001b[0m                     \u001b[0mactionTakenIndex\u001b[0m \u001b[0;34m=\u001b[0m \u001b[0mactionIndex\u001b[0m\u001b[0;34m\u001b[0m\u001b[0;34m\u001b[0m\u001b[0m\n",
      "\u001b[0;32m~/anaconda3/lib/python3.7/site-packages/tensorflow_core/python/keras/engine/training.py\u001b[0m in \u001b[0;36mpredict\u001b[0;34m(self, x, batch_size, verbose, steps, callbacks, max_queue_size, workers, use_multiprocessing)\u001b[0m\n\u001b[1;32m    907\u001b[0m         \u001b[0mmax_queue_size\u001b[0m\u001b[0;34m=\u001b[0m\u001b[0mmax_queue_size\u001b[0m\u001b[0;34m,\u001b[0m\u001b[0;34m\u001b[0m\u001b[0;34m\u001b[0m\u001b[0m\n\u001b[1;32m    908\u001b[0m         \u001b[0mworkers\u001b[0m\u001b[0;34m=\u001b[0m\u001b[0mworkers\u001b[0m\u001b[0;34m,\u001b[0m\u001b[0;34m\u001b[0m\u001b[0;34m\u001b[0m\u001b[0m\n\u001b[0;32m--> 909\u001b[0;31m         use_multiprocessing=use_multiprocessing)\n\u001b[0m\u001b[1;32m    910\u001b[0m \u001b[0;34m\u001b[0m\u001b[0m\n\u001b[1;32m    911\u001b[0m   \u001b[0;32mdef\u001b[0m \u001b[0mreset_metrics\u001b[0m\u001b[0;34m(\u001b[0m\u001b[0mself\u001b[0m\u001b[0;34m)\u001b[0m\u001b[0;34m:\u001b[0m\u001b[0;34m\u001b[0m\u001b[0;34m\u001b[0m\u001b[0m\n",
      "\u001b[0;32m~/anaconda3/lib/python3.7/site-packages/tensorflow_core/python/keras/engine/training_v2.py\u001b[0m in \u001b[0;36mpredict\u001b[0;34m(self, model, x, batch_size, verbose, steps, callbacks, **kwargs)\u001b[0m\n\u001b[1;32m    460\u001b[0m     return self._model_iteration(\n\u001b[1;32m    461\u001b[0m         \u001b[0mmodel\u001b[0m\u001b[0;34m,\u001b[0m \u001b[0mModeKeys\u001b[0m\u001b[0;34m.\u001b[0m\u001b[0mPREDICT\u001b[0m\u001b[0;34m,\u001b[0m \u001b[0mx\u001b[0m\u001b[0;34m=\u001b[0m\u001b[0mx\u001b[0m\u001b[0;34m,\u001b[0m \u001b[0mbatch_size\u001b[0m\u001b[0;34m=\u001b[0m\u001b[0mbatch_size\u001b[0m\u001b[0;34m,\u001b[0m \u001b[0mverbose\u001b[0m\u001b[0;34m=\u001b[0m\u001b[0mverbose\u001b[0m\u001b[0;34m,\u001b[0m\u001b[0;34m\u001b[0m\u001b[0;34m\u001b[0m\u001b[0m\n\u001b[0;32m--> 462\u001b[0;31m         steps=steps, callbacks=callbacks, **kwargs)\n\u001b[0m\u001b[1;32m    463\u001b[0m \u001b[0;34m\u001b[0m\u001b[0m\n\u001b[1;32m    464\u001b[0m \u001b[0;34m\u001b[0m\u001b[0m\n",
      "\u001b[0;32m~/anaconda3/lib/python3.7/site-packages/tensorflow_core/python/keras/engine/training_v2.py\u001b[0m in \u001b[0;36m_model_iteration\u001b[0;34m(self, model, mode, x, y, batch_size, verbose, sample_weight, steps, callbacks, **kwargs)\u001b[0m\n\u001b[1;32m    412\u001b[0m           model, mode)\n\u001b[1;32m    413\u001b[0m \u001b[0;34m\u001b[0m\u001b[0m\n\u001b[0;32m--> 414\u001b[0;31m       \u001b[0mdata_iterator\u001b[0m \u001b[0;34m=\u001b[0m \u001b[0miter\u001b[0m\u001b[0;34m(\u001b[0m\u001b[0mdataset\u001b[0m\u001b[0;34m)\u001b[0m\u001b[0;34m\u001b[0m\u001b[0;34m\u001b[0m\u001b[0m\n\u001b[0m\u001b[1;32m    415\u001b[0m \u001b[0;34m\u001b[0m\u001b[0m\n\u001b[1;32m    416\u001b[0m       callbacks = cbks.configure_callbacks(\n",
      "\u001b[0;32m~/anaconda3/lib/python3.7/site-packages/tensorflow_core/python/data/ops/dataset_ops.py\u001b[0m in \u001b[0;36m__iter__\u001b[0;34m(self)\u001b[0m\n\u001b[1;32m    330\u001b[0m     if (context.executing_eagerly()\n\u001b[1;32m    331\u001b[0m         or ops.get_default_graph()._building_function):  # pylint: disable=protected-access\n\u001b[0;32m--> 332\u001b[0;31m       \u001b[0;32mreturn\u001b[0m \u001b[0miterator_ops\u001b[0m\u001b[0;34m.\u001b[0m\u001b[0mIteratorV2\u001b[0m\u001b[0;34m(\u001b[0m\u001b[0mself\u001b[0m\u001b[0;34m)\u001b[0m\u001b[0;34m\u001b[0m\u001b[0;34m\u001b[0m\u001b[0m\n\u001b[0m\u001b[1;32m    333\u001b[0m     \u001b[0;32melse\u001b[0m\u001b[0;34m:\u001b[0m\u001b[0;34m\u001b[0m\u001b[0;34m\u001b[0m\u001b[0m\n\u001b[1;32m    334\u001b[0m       raise RuntimeError(\"__iter__() is only supported inside of tf.function \"\n",
      "\u001b[0;32m~/anaconda3/lib/python3.7/site-packages/tensorflow_core/python/data/ops/iterator_ops.py\u001b[0m in \u001b[0;36m__init__\u001b[0;34m(self, dataset, components, element_spec)\u001b[0m\n\u001b[1;32m    591\u001b[0m           context.context().device_spec.device_type != \"CPU\"):\n\u001b[1;32m    592\u001b[0m         \u001b[0;32mwith\u001b[0m \u001b[0mops\u001b[0m\u001b[0;34m.\u001b[0m\u001b[0mdevice\u001b[0m\u001b[0;34m(\u001b[0m\u001b[0;34m\"/cpu:0\"\u001b[0m\u001b[0;34m)\u001b[0m\u001b[0;34m:\u001b[0m\u001b[0;34m\u001b[0m\u001b[0;34m\u001b[0m\u001b[0m\n\u001b[0;32m--> 593\u001b[0;31m           \u001b[0mself\u001b[0m\u001b[0;34m.\u001b[0m\u001b[0m_create_iterator\u001b[0m\u001b[0;34m(\u001b[0m\u001b[0mdataset\u001b[0m\u001b[0;34m)\u001b[0m\u001b[0;34m\u001b[0m\u001b[0;34m\u001b[0m\u001b[0m\n\u001b[0m\u001b[1;32m    594\u001b[0m       \u001b[0;32melse\u001b[0m\u001b[0;34m:\u001b[0m\u001b[0;34m\u001b[0m\u001b[0;34m\u001b[0m\u001b[0m\n\u001b[1;32m    595\u001b[0m         \u001b[0mself\u001b[0m\u001b[0;34m.\u001b[0m\u001b[0m_create_iterator\u001b[0m\u001b[0;34m(\u001b[0m\u001b[0mdataset\u001b[0m\u001b[0;34m)\u001b[0m\u001b[0;34m\u001b[0m\u001b[0;34m\u001b[0m\u001b[0m\n",
      "\u001b[0;32m~/anaconda3/lib/python3.7/site-packages/tensorflow_core/python/data/ops/iterator_ops.py\u001b[0m in \u001b[0;36m_create_iterator\u001b[0;34m(self, dataset)\u001b[0m\n\u001b[1;32m    614\u001b[0m           \u001b[0mhandle\u001b[0m\u001b[0;34m=\u001b[0m\u001b[0mself\u001b[0m\u001b[0;34m.\u001b[0m\u001b[0m_iterator_resource\u001b[0m\u001b[0;34m,\u001b[0m\u001b[0;34m\u001b[0m\u001b[0;34m\u001b[0m\u001b[0m\n\u001b[1;32m    615\u001b[0m           \u001b[0mdevice\u001b[0m\u001b[0;34m=\u001b[0m\u001b[0mself\u001b[0m\u001b[0;34m.\u001b[0m\u001b[0m_device\u001b[0m\u001b[0;34m,\u001b[0m\u001b[0;34m\u001b[0m\u001b[0;34m\u001b[0m\u001b[0m\n\u001b[0;32m--> 616\u001b[0;31m           deleter=self._deleter)\n\u001b[0m\u001b[1;32m    617\u001b[0m \u001b[0;34m\u001b[0m\u001b[0m\n\u001b[1;32m    618\u001b[0m   \u001b[0;32mdef\u001b[0m \u001b[0m__iter__\u001b[0m\u001b[0;34m(\u001b[0m\u001b[0mself\u001b[0m\u001b[0;34m)\u001b[0m\u001b[0;34m:\u001b[0m\u001b[0;34m\u001b[0m\u001b[0;34m\u001b[0m\u001b[0m\n",
      "\u001b[0;31mKeyboardInterrupt\u001b[0m: "
     ]
    }
   ],
   "source": [
    "while episode < 10000:\n",
    "    t = 0\n",
    "    while t < 300:\n",
    "        # Apply e-greedy policy\n",
    "        k = k + 1\n",
    "        minQValue = False\n",
    "        e = 1000 / (1000 + counter12)\n",
    "        randomValue = random.random()\n",
    "        if randomValue <= (1 - e):\n",
    "            minQValue = True\n",
    "        minQValueSample = sys.maxsize\n",
    "        actionTakenIndex = 0\n",
    "        act = getPossibleActionsFromState(state, container, hosts, actions)\n",
    "        \n",
    "        if len(act) == 0:\n",
    "            state = getNewRandomState(hosts, responseList, resourceLoadHosts, container)\n",
    "            continue\n",
    "        if minQValue:\n",
    "            # retrieve the action with minimum Q-value from the source network\n",
    "            actionTakenIndex = 0\n",
    "            isZeroMin = True\n",
    "            for actionIndex in range(len(act)):\n",
    "                newPL = copy.deepcopy(state[1])\n",
    "                newPL[state[4]][state[3]] = round(newPL[state[4]][state[3]] + act[actionIndex], 2)\n",
    "                toTrain = (state[0], newPL, state[2], state[3], state[4])\n",
    "                nnInput = getNNInput(toTrain, act[actionIndex])\n",
    "                actionQValueT = np.array([nnInput])\n",
    "                actionQValue = model.predict(actionQValueT)[0][0]\n",
    "                if minQValueSample >= actionQValue:\n",
    "                    actionTakenIndex = actions.index(act[actionIndex])\n",
    "                    minQValueSample = actionQValue\n",
    "                    isZeroMin = False\n",
    "        else:\n",
    "            isZeroMin = True\n",
    "        if isZeroMin:\n",
    "            randIndex = random.randrange(len(act))\n",
    "            actionTakenIndex = actions.index(act[randIndex])\n",
    "        actionTaken = actions[actionTakenIndex]\n",
    "        previousAction = actionTaken\n",
    "        previousState = state\n",
    "        \n",
    "        #Apply the selected action and observe the next state.\n",
    "        statex = getNextState(p, responseList, resourceLoadHosts, state, actionTaken, hosts, container)\n",
    "        \n",
    "        state = statex\n",
    "\n",
    "        stateCost = totalCost(state, previousState, actionTaken, hosts, container, 0.2, 0.5, 0.15, 0.15)\n",
    "        \n",
    "        # If decisions are made for all services for the current timestep, store values for visualisation\n",
    "        if state[4] == 0:\n",
    "            gh = 0\n",
    "            for po in state[1]:\n",
    "                gh = gh + po[state[3]]\n",
    "            resultsResponsesList1.append([state[0][state[3]], gh, state[3]])\n",
    "            resultsResourcesList1.append(resourcesResult(state[1], state[2], container))\n",
    "            costsList.append(stateCost)\n",
    "            if state[3] == 0:\n",
    "                costsListC1.append(stateCost)\n",
    "            if state[3] == 1:\n",
    "                costsListC2.append(stateCost)\n",
    "            if state[3] == 2:\n",
    "                costsListC3.append(stateCost)\n",
    "            p = p + 1\n",
    "        #store transmission in replay buffer\n",
    "        replayBuffer.append([previousState, actionTaken, stateCost, state])\n",
    "        if len(replayBuffer) > 1000:\n",
    "            #replace the old items in the buffer by new ones\n",
    "            replayBuffer.pop(0)\n",
    "        #retrieve minibatch from replay buffer\n",
    "        if len(replayBuffer) > 100:\n",
    "            #get 1000 random transitions and prepare for model fit\n",
    "            dataToFit = getRandomMiniBatchPrepareModelFit(replayBuffer, targetModel, discountFactor, actions)\n",
    "            #fit the model\n",
    "            model.fit(np.array(dataToFit[0]), np.array(dataToFit[1]), batch_size=8, epochs=5, verbose=False)\n",
    "        if k%600 == 0:\n",
    "            #replace weights every 600 iterations\n",
    "            modelWeights = []\n",
    "            for layer in model.layers:\n",
    "                modelWeights.append(layer.get_weights())\n",
    "            counterWeights = 0\n",
    "            for layer in targetModel.layers:\n",
    "                layer.set_weights(modelWeights[counterWeights])\n",
    "                counterWeights = counterWeights + 1\n",
    "        t = t + 1\n",
    "        counter12 = counter12 + 1\n",
    "    episode = episode + 1"
   ]
  },
  {
   "cell_type": "markdown",
   "metadata": {},
   "source": [
    "# Visualize the average cost produced"
   ]
  },
  {
   "cell_type": "code",
   "execution_count": 178,
   "metadata": {},
   "outputs": [],
   "source": [
    "averagedCostList = []\n",
    "counter = 0\n",
    "sumCosts = 0\n",
    "for aCost in costsList:\n",
    "    sumCosts = sumCosts + aCost\n",
    "    counter = counter + 1\n",
    "    if counter == 100:\n",
    "        averagedCostList.append(sumCosts/100.0)\n",
    "        sumCosts = 0\n",
    "        counter = 0"
   ]
  },
  {
   "cell_type": "code",
   "execution_count": 179,
   "metadata": {},
   "outputs": [],
   "source": [
    "iterations = range(len(averagedCostList))\n",
    "costs = averagedCostList\n",
    "data = {\n",
    "    'iterations': iterations, \n",
    "    'cost': costs,\n",
    "}\n",
    "df = pd.DataFrame(data=data)"
   ]
  },
  {
   "cell_type": "code",
   "execution_count": 1744,
   "metadata": {},
   "outputs": [
    {
     "data": {
      "image/png": "[encoded data removed]",
      "text/plain": [
       "<Figure size 2160x504 with 1 Axes>"
      ]
     },
     "metadata": {
      "needs_background": "light"
     },
     "output_type": "display_data"
    }
   ],
   "source": [
    "_, ax = plt.subplots(figsize=(30, 7))\n",
    "ax.set(xscale=\"log\", yscale=\"linear\")\n",
    "ax.set_title(\"algorithm performance\")\n",
    "sns.lineplot(\"iterations\", \"cost\", data=df, ax=ax)\n",
    "ax.set_xlabel(\"Number of iterations\")\n",
    "ax.set_ylabel(\"Cost\")\n",
    "ax.xaxis.grid(True)\n",
    "ax.set_xlabel(\"Number of iterations\", fontsize=24)\n",
    "ax.set_ylabel(\"Averaged Cost\",fontsize=24)\n",
    "ax.grid()\n",
    "ax.xaxis.grid(True, color='black', linestyle='dotted')\n",
    "ax.yaxis.grid(True, color='black', linestyle='dotted')\n",
    "xticks = ax.xaxis.get_major_ticks()\n",
    "yticks = ax.yaxis.get_major_ticks()\n",
    "for tick in xticks:\n",
    "    tick.label1.set_fontsize(20)\n",
    "#    tick.label1.set_rotation(45)\n",
    "for tick in yticks:\n",
    "    tick.label1.set_fontsize(20)\n",
    "ax.tick_params(width=6, colors='black')\n",
    "ax.spines['bottom'].set_color('black')\n",
    "ax.spines['top'].set_color('black')\n",
    "ax.spines['left'].set_color('black')\n",
    "ax.spines['right'].set_color('black')"
   ]
  },
  {
   "cell_type": "markdown",
   "metadata": {},
   "source": [
    "## Feel free to plot the rest of the results"
   ]
  }
 ],
 "metadata": {
  "kernelspec": {
   "display_name": "Python 3",
   "language": "python",
   "name": "python3"
  },
  "language_info": {
   "codemirror_mode": {
    "name": "ipython",
    "version": 3
   },
   "file_extension": ".py",
   "mimetype": "text/x-python",
   "name": "python",
   "nbconvert_exporter": "python",
   "pygments_lexer": "ipython3",
   "version": "3.7.3"
  }
 },
 "nbformat": 4,
 "nbformat_minor": 2
}
