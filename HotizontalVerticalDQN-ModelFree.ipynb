{
 "cells": [
  {
   "cell_type": "markdown",
   "metadata": {},
   "source": [
    " * ### AI-based Resource Provisioning of IoE Services in 6G: A Deep Reinforcement Learning Approach\n",
    " * ### Date: 13-03-2021\n",
    " * ### Author: Hani Sami (hani.sami@mail.concordia.ca)\n",
    " * ### IEEE TNSM 2021"
   ]
  },
  {
   "cell_type": "code",
   "execution_count": 1,
   "metadata": {},
   "outputs": [],
   "source": [
    "import os\n",
    "os.environ['TF_XLA_FLAGS'] = '--tf_xla_enable_xla_devices'\n",
    "os.environ['TF_CPP_MIN_LOG_LEVEL']='2'\n",
    "import time\n",
    "import random\n",
    "import pandas as pd\n",
    "import matplotlib.pyplot as plt\n",
    "import numpy as np\n",
    "from datetime import datetime, date\n",
    "from collections import OrderedDict\n",
    "import random\n",
    "import math\n",
    "import sys\n",
    "import pickle\n",
    "import seaborn as sns\n",
    "import itertools\n",
    "import copy\n",
    "from tqdm.notebook import tqdm"
   ]
  },
  {
   "cell_type": "code",
   "execution_count": 2,
   "metadata": {},
   "outputs": [],
   "source": [
    "from tensorflow.keras.models import Sequential\n",
    "from tensorflow.keras.layers import Dense\n",
    "from tensorflow.keras import initializers\n",
    "from tensorflow.keras import optimizers\n",
    "from tensorflow.keras import losses"
   ]
  },
  {
   "cell_type": "markdown",
   "metadata": {},
   "source": [
    "# Data Preparation"
   ]
  },
  {
   "cell_type": "markdown",
   "metadata": {},
   "source": [
    "## Input"
   ]
  },
  {
   "cell_type": "code",
   "execution_count": 3,
   "metadata": {},
   "outputs": [],
   "source": [
    "# Each host has the following information:\n",
    "# available cpu, memory, disk, time available to serve\n",
    "hosts = [\n",
    "    [1.0, 1.0, 1.0, 10],\n",
    "    [0.8, 0.5, 0.5, 20],\n",
    "    [0.9, 0.9, 0.9, 30]\n",
    "]"
   ]
  },
  {
   "cell_type": "code",
   "execution_count": 4,
   "metadata": {},
   "outputs": [],
   "source": [
    "# Each container has the following information\n",
    "# Required cpu, memory, disk, and priority level\n",
    "\n",
    "container = [[0.5, 0.2, 0.2, 0],\n",
    "            [0.3, 0.2, 0.2, 1],\n",
    "            [0.25,0.25, 0.25, 0]]"
   ]
  },
  {
   "cell_type": "markdown",
   "metadata": {},
   "source": [
    "## Action Space"
   ]
  },
  {
   "cell_type": "code",
   "execution_count": 5,
   "metadata": {},
   "outputs": [],
   "source": [
    "def getActionSpace(limit):\n",
    "    actions = []\n",
    "    for i in range(limit):\n",
    "        actions.append((i+1) * -1)\n",
    "    actions.append(0)\n",
    "    for i in range(limit):\n",
    "        actions.append(i+1)\n",
    "    for i in range(9):\n",
    "        actions.append(round((i+1)*0.1, 2))\n",
    "    for i in range(9):\n",
    "        actions.append(round((i+1)*-0.1, 2))\n",
    "    return actions\n",
    "    "
   ]
  },
  {
   "cell_type": "code",
   "execution_count": 6,
   "metadata": {},
   "outputs": [],
   "source": [
    "actions = getActionSpace(1)"
   ]
  },
  {
   "cell_type": "markdown",
   "metadata": {},
   "source": [
    "## Read demands and available resource data from Google Cluster Usage Trace dataset:\n",
    "https://drive.google.com/file/d/10r6cnJ5cJ89fPWCgj7j4LtLBqYN9RiI9/view\n",
    "\n",
    "### A sample from this dataset is used below"
   ]
  },
  {
   "cell_type": "code",
   "execution_count": 7,
   "metadata": {},
   "outputs": [],
   "source": [
    "responseList = [[0.2, 0.3, 0.1],\n",
    "               [0.4, 0.2, 0.2],\n",
    "               [0.3, 0.3,0.3],\n",
    "               [0.3, 0.3, 0.4],\n",
    "               [0.1, 0.1, 0.2]]"
   ]
  },
  {
   "cell_type": "code",
   "execution_count": 8,
   "metadata": {},
   "outputs": [],
   "source": [
    "resourceLoadHosts = [[0.21, 0.21,0.32],\n",
    "                    [0.19, 0.15, 0.21],\n",
    "                    [0.12, 0.25, 0.3],\n",
    "                    [0.32, 0.27, 0.12],\n",
    "                    [0.26, 0.36, 0.1]]"
   ]
  },
  {
   "cell_type": "markdown",
   "metadata": {},
   "source": [
    "# Common Functions"
   ]
  },
  {
   "cell_type": "markdown",
   "metadata": {},
   "source": [
    "## Retrieve the next state following the current state and action taken"
   ]
  },
  {
   "cell_type": "code",
   "execution_count": 9,
   "metadata": {},
   "outputs": [],
   "source": [
    "def getNextState(timestep, responsesList, resourceLoadHosts, state, action, hosts, container):\n",
    "    placement = copy.deepcopy(state[1])\n",
    "    newLoad = state[2]\n",
    "    p = state[3]\n",
    "    q = state[4]\n",
    "    newResponse = state[0]\n",
    "    placement[state[4]][state[3]] = round(placement[state[4]][state[3]] + action, 2)\n",
    "    newResponseFinal = responsesList[timestep%5]\n",
    "    newLoadFinal = resourceLoadHosts[timestep%5]\n",
    "    if q + 1 == len(hosts):\n",
    "        q = 0   \n",
    "        if p + 1 == len(container):\n",
    "            p = 0\n",
    "            newResponse = responsesList[timestep%5]\n",
    "            newLoad = resourceLoadHosts[timestep%5]\n",
    "        else:\n",
    "            p = p + 1\n",
    "    else:\n",
    "        q = q + 1\n",
    "    nextState = [newResponse, placement, newLoad, p, q]\n",
    "    \n",
    "    return nextState"
   ]
  },
  {
   "cell_type": "markdown",
   "metadata": {},
   "source": [
    "## Check if the selected action is feasible"
   ]
  },
  {
   "cell_type": "code",
   "execution_count": 10,
   "metadata": {},
   "outputs": [],
   "source": [
    "def isActionFeasible(state, previousState, action, container, hosts):\n",
    "    possible = True\n",
    "    if (previousState[1][previousState[4]][previousState[3]] + action) < 0:\n",
    "        possible = False\n",
    "    totalPlac = 0.0\n",
    "    for plan in previousState[1][previousState[4]]:\n",
    "        totalPlac = totalPlac + plan\n",
    "    if totalPlac + action < 0:\n",
    "        possible = False\n",
    "    return possible"
   ]
  },
  {
   "cell_type": "markdown",
   "metadata": {},
   "source": [
    "## Retrieve the list of possible actions for the current state"
   ]
  },
  {
   "cell_type": "code",
   "execution_count": 11,
   "metadata": {},
   "outputs": [],
   "source": [
    "def getPossibleActionsFromState(state, container, hosts, actions):\n",
    "    #check the +1 and if it is enough for the resources\n",
    "    possibleActions = []\n",
    "    for action in actions:\n",
    "        possible = True\n",
    "        if (state[1][state[4]][state[3]] + action) < 0:\n",
    "            possible = False \n",
    "        totalPlac = 0.0\n",
    "        for plan in state[1][state[4]]:\n",
    "            totalPlac = totalPlac + plan\n",
    "        if totalPlac + action < 0 or totalPlac + action > 2 * (1 - state[2][state[4]]):\n",
    "            possible = False\n",
    "        if possible:\n",
    "            possibleActions.append(action)\n",
    "    return possibleActions"
   ]
  },
  {
   "cell_type": "markdown",
   "metadata": {},
   "source": [
    "# Cost Function "
   ]
  },
  {
   "cell_type": "code",
   "execution_count": 12,
   "metadata": {},
   "outputs": [],
   "source": [
    "def resourceCost(state, previousState, action, container, hosts):\n",
    "    summ = 0\n",
    "    for i in range(len(state[1])):\n",
    "        hostUsage = 0\n",
    "        usage = 0\n",
    "        for j in range(len(container)):\n",
    "            hostUsage = hostUsage + (state[1][i][j])\n",
    "            if hostUsage > state[0][j]:\n",
    "                usage = usage + (hostUsage - state[0][j])\n",
    "        if hostUsage < 0 or hostUsage > 1 - state[2][i]:\n",
    "            summ = summ + 10\n",
    "            continue\n",
    "        \n",
    "        summ = summ + usage\n",
    "    sumAv = 0.0\n",
    "    for gg in state[2]:\n",
    "        sumAv = sumAv + (1 - gg)\n",
    "    return summ / sumAv"
   ]
  },
  {
   "cell_type": "code",
   "execution_count": 13,
   "metadata": {},
   "outputs": [],
   "source": [
    "def refreshCost(state):\n",
    "    sumPlacement = 0\n",
    "    cost = 0\n",
    "    \n",
    "    for placement in state[1]:\n",
    "        for plac in placement:\n",
    "            if plac <= 0:\n",
    "                continue\n",
    "            else:\n",
    "                sumPlacement = sumPlacement + (plac)\n",
    "    return sumPlacement / len(state[1]) * len(state[1][0])"
   ]
  },
  {
   "cell_type": "code",
   "execution_count": 14,
   "metadata": {},
   "outputs": [],
   "source": [
    "def responseCost(nextState, hosts, container):\n",
    "    cost = 0\n",
    "    for i in range(len(container)):\n",
    "        sumPlacement = 0\n",
    "        for j in range(len(nextState[1])):\n",
    "            sumPlacement = sumPlacement + nextState[1][j][i]\n",
    "\n",
    "        if sumPlacement >= nextState[0][i] or nextState[0][i] == 0 or sumPlacement < 0:\n",
    "            continue\n",
    "        maxI =  nextState[0][i]\n",
    "        cost = cost + ((maxI - (sumPlacement)) / maxI)\n",
    "\n",
    "    return cost"
   ]
  },
  {
   "cell_type": "code",
   "execution_count": 15,
   "metadata": {},
   "outputs": [],
   "source": [
    "def distanceCost(state, Hosts):\n",
    "    #get the max distance sum\n",
    "    distances = 0\n",
    "    maxSumDistance = 0\n",
    "    for i in range(len(hosts)):\n",
    "        sumPlac = 0\n",
    "        for pac in range(len(state[1][i])):\n",
    "            sumPlac = sumPlac + pac\n",
    "        if(sumPlac <= 0):\n",
    "            continue\n",
    "        distances = distances + (sumPlac * (hosts[2][3] - hosts[i][3]))\n",
    "        maxSumDistance = maxSumDistance + ((hosts[2][3]-hosts[0][3]) * sumPlac)\n",
    "    if maxSumDistance == 0:\n",
    "        return 0\n",
    "    return float(distances) / (maxSumDistance)"
   ]
  },
  {
   "cell_type": "code",
   "execution_count": 16,
   "metadata": {},
   "outputs": [],
   "source": [
    "def priorityCost(state, container):\n",
    "    totalC = 0\n",
    "    ser = 0\n",
    "    sumPlac = 0\n",
    "    for j in range(len(container)):\n",
    "        if container[j][3] == 0:\n",
    "            continue\n",
    "        ser = j\n",
    "        for i in range(len(state[1])):\n",
    "            sumPlac = sumPlac + state[1][i][j]\n",
    "    if sumPlac < state[0][ser]:\n",
    "        return (state[0][ser] - sumPlac) / state[0][ser]\n",
    "    return 0"
   ]
  },
  {
   "cell_type": "code",
   "execution_count": 17,
   "metadata": {},
   "outputs": [],
   "source": [
    "def totalCost(state, previousState, action, hosts, containers, w1, w2, w3, w5):\n",
    "    c1 = resourceCost(state, previousState, action, container, hosts) * w1\n",
    "    c2 = responseCost(state, hosts, containers) * w2\n",
    "    c3 = distanceCost(state, hosts) * w3\n",
    "    c5 = priorityCost(state, containers) * w5\n",
    "    return c1 + c2 + c3 + c5"
   ]
  },
  {
   "cell_type": "markdown",
   "metadata": {},
   "source": [
    "# DQN"
   ]
  },
  {
   "cell_type": "markdown",
   "metadata": {},
   "source": [
    "## Source and target networks initialization"
   ]
  },
  {
   "cell_type": "code",
   "execution_count": 18,
   "metadata": {},
   "outputs": [],
   "source": [
    "replayBuffer = []\n",
    "\n",
    "# The dimensions of the input for the source and target networks\n",
    "dimensions = len(hosts) + (len(hosts)*len(container)) + 4\n",
    "\n",
    "model = Sequential()\n",
    "model.add(Dense(32, input_dim=dimensions, activation='relu', kernel_initializer='random_normal'))\n",
    "model.add(Dense(16, activation='relu',kernel_initializer='random_normal'))\n",
    "model.add(Dense(8, activation='relu', kernel_initializer='random_normal'))\n",
    "model.add(Dense(1, activation='linear', kernel_initializer='random_normal'))\n",
    "#Initialize target action value function Qhat with weight theta- = theta\n",
    "targetModel = Sequential()\n",
    "targetModel.add(Dense(32, input_dim=dimensions, activation='relu'))\n",
    "targetModel.add(Dense(16, activation='relu'))\n",
    "targetModel.add(Dense(8, activation='relu'))\n",
    "targetModel.add(Dense(1, activation='linear'))\n",
    "#set target model weights to the model\n",
    "modelWeights = []\n",
    "for layer in model.layers: \n",
    "    modelWeights.append(layer.get_weights())\n",
    "# counterWeights = 0\n",
    "# for layer in model.layers:\n",
    "#     layer.set_weights(weights[counterWeights])\n",
    "#     counterWeights = counterWeights + 1\n",
    "counterWeights = 0\n",
    "for layer in targetModel.layers:\n",
    "    layer.set_weights(modelWeights[counterWeights])\n",
    "    counterWeights = counterWeights + 1\n",
    "huberLoss = losses.Huber()\n",
    "optimizerRMS = optimizers.RMSprop(learning_rate=0.001, rho=0.9)\n",
    "model.compile(loss=huberLoss, optimizer=optimizerRMS)\n",
    "targetModel.compile(loss=huberLoss, optimizer=optimizerRMS)"
   ]
  },
  {
   "cell_type": "markdown",
   "metadata": {},
   "source": [
    "## Common functions used in the DQN implementation"
   ]
  },
  {
   "cell_type": "code",
   "execution_count": 19,
   "metadata": {},
   "outputs": [],
   "source": [
    "def resourcesResult(pl, resources, container):\n",
    "    resultsResources = []\n",
    "    availableResources = []\n",
    "    for res in resources:\n",
    "        availableResources.append(1.0 - res)\n",
    "    for res in range(len(availableResources)):\n",
    "        cpuUsed = 0\n",
    "        for pac in range(len(container)):\n",
    "            cpuUsed = pl[res][pac]\n",
    "        resultsResources.append(cpuUsed)\n",
    "    return ([resultsResources, availableResources])"
   ]
  },
  {
   "cell_type": "code",
   "execution_count": 20,
   "metadata": {},
   "outputs": [],
   "source": [
    "def sumPlacement(pl):\n",
    "    sum = 0\n",
    "    for n in pl:\n",
    "        for pac in n:\n",
    "            sum = sum + pac\n",
    "    return sum"
   ]
  },
  {
   "cell_type": "code",
   "execution_count": 21,
   "metadata": {},
   "outputs": [],
   "source": [
    "def getEmptyPlacement(hosts, container):\n",
    "    p = []\n",
    "    for i in range(len(hosts)):\n",
    "        temp = []\n",
    "        for j in range(len(container)):\n",
    "            temp.append(0)\n",
    "        p.append(temp)\n",
    "    return p"
   ]
  },
  {
   "cell_type": "code",
   "execution_count": 22,
   "metadata": {},
   "outputs": [],
   "source": [
    "def getNewRandomState(hosts, responses, resources, container):\n",
    "    placement = getEmptyPlacement(hosts, container)\n",
    "    respRand = random.randrange(5)\n",
    "    response = responses[respRand]\n",
    "    resouRand = random.randrange(5)\n",
    "    resource = resources[resouRand]\n",
    "    return (response, placement, resource, 0, 0)"
   ]
  },
  {
   "cell_type": "code",
   "execution_count": 23,
   "metadata": {},
   "outputs": [],
   "source": [
    "def getNNInput(state, action):\n",
    "    result = []\n",
    "    result.append(state[0][0])\n",
    "    result.append(state[0][1])\n",
    "    for i in state[1]:\n",
    "        for j in i:\n",
    "            result.append(j)\n",
    "    for i in state[2]:\n",
    "        result.append(i)\n",
    "    result.append(state[3])\n",
    "    result.append(state[4])\n",
    "    return result"
   ]
  },
  {
   "cell_type": "code",
   "execution_count": 24,
   "metadata": {},
   "outputs": [],
   "source": [
    "def getRandomMiniBatchPrepareModelFit(replayBuffer, targetModel, discountFactor, actionBinary):\n",
    "    #get 1000 samples\n",
    "    randomTransitionsIndeces = random.sample(range(0, len(replayBuffer)), 60)\n",
    "    trainingDataModel = []\n",
    "    trainingDataLabelTargetModel = []\n",
    "    for index in randomTransitionsIndeces:\n",
    "        labelSample = 0.0\n",
    "        trainSample = getNNInput(replayBuffer[index][0], replayBuffer[index][1])\n",
    "        trainingDataModel.append(trainSample)\n",
    "        #get max qvalue on target network\n",
    "        if(replayBuffer[index][3][2] == 0):\n",
    "              labelSample = replayBuffer[index][2]\n",
    "        else:\n",
    "            actionTakenIndex = 0\n",
    "            minQValue = sys.maxsize\n",
    "            for actionIndex in range(len(actionBinary)):\n",
    "                nnInput = getNNInput(replayBuffer[index][3], actionBinary[actionIndex])\n",
    "                #get qvalue as output of Neural Network\n",
    "                actionQValueT = np.array([nnInput])\n",
    "                actionQValue = targetModel.predict(actionQValueT)[0][0]\n",
    "                if minQValue > actionQValue:\n",
    "                    actionTakenIndex = actionIndex\n",
    "                    minQValue = actionQValue\n",
    "            labelSample = replayBuffer[index][2] + (discountFactor * minQValue)\n",
    "        trainingDataLabelTargetModel.append(labelSample)\n",
    "    output = (trainingDataModel, trainingDataLabelTargetModel)\n",
    "    return output"
   ]
  },
  {
   "cell_type": "markdown",
   "metadata": {},
   "source": [
    "## Variables initialization used in DQN of IScaler"
   ]
  },
  {
   "cell_type": "code",
   "execution_count": 25,
   "metadata": {},
   "outputs": [],
   "source": [
    "episode = 0\n",
    "k = 0\n",
    "replayBuffer = []\n",
    "discountFactor = 0.9\n",
    "costsList = []\n",
    "costsListC1 = []\n",
    "costsListC2 = []\n",
    "costsListC3 = []\n",
    "resultsResourcesList1 = []\n",
    "resultsResponsesList1 = []\n",
    "p1=[]\n",
    "counter12 = 0\n",
    "p = 1\n",
    "state = getNewRandomState(hosts, responseList, resourceLoadHosts, container)"
   ]
  },
  {
   "cell_type": "code",
   "execution_count": 26,
   "metadata": {},
   "outputs": [
    {
     "data": {
      "text/plain": [
       "([0.3, 0.3, 0.4], [[0, 0, 0], [0, 0, 0], [0, 0, 0]], [0.12, 0.25, 0.3], 0, 0)"
      ]
     },
     "execution_count": 26,
     "metadata": {},
     "output_type": "execute_result"
    }
   ],
   "source": [
    "state"
   ]
  },
  {
   "cell_type": "markdown",
   "metadata": {},
   "source": [
    "## Main learning algorithm"
   ]
  },
  {
   "cell_type": "code",
   "execution_count": 27,
   "metadata": {
    "scrolled": true
   },
   "outputs": [
    {
     "data": {
      "application/vnd.jupyter.widget-view+json": {
       "model_id": "fff1599353c34354a9a56dbe3837c5b5",
       "version_major": 2,
       "version_minor": 0
      },
      "text/plain": [
       "  0%|          | 0/10000 [00:00<?, ?it/s]"
      ]
     },
     "metadata": {},
     "output_type": "display_data"
    },
    {
     "data": {
      "application/vnd.jupyter.widget-view+json": {
       "model_id": "bacf23f099944f0088b6cace967b8bd1",
       "version_major": 2,
       "version_minor": 0
      },
      "text/plain": [
       "  0%|          | 0/300 [00:00<?, ?it/s]"
      ]
     },
     "metadata": {},
     "output_type": "display_data"
    },
    {
     "data": {
      "application/vnd.jupyter.widget-view+json": {
       "model_id": "47cfc22b2f6f420f9a68738c4bb9a1db",
       "version_major": 2,
       "version_minor": 0
      },
      "text/plain": [
       "  0%|          | 0/300 [00:00<?, ?it/s]"
      ]
     },
     "metadata": {},
     "output_type": "display_data"
    },
    {
     "ename": "KeyboardInterrupt",
     "evalue": "",
     "output_type": "error",
     "traceback": [
      "\u001b[0;31m---------------------------------------------------------------------------\u001b[0m",
      "\u001b[0;31mKeyboardInterrupt\u001b[0m                         Traceback (most recent call last)",
      "Cell \u001b[0;32mIn[27], line 71\u001b[0m\n\u001b[1;32m     68\u001b[0m \u001b[38;5;66;03m#retrieve minibatch from replay buffer\u001b[39;00m\n\u001b[1;32m     69\u001b[0m \u001b[38;5;28;01mif\u001b[39;00m \u001b[38;5;28mlen\u001b[39m(replayBuffer) \u001b[38;5;241m>\u001b[39m \u001b[38;5;241m100\u001b[39m:\n\u001b[1;32m     70\u001b[0m     \u001b[38;5;66;03m#get 1000 random transitions and prepare for model fit\u001b[39;00m\n\u001b[0;32m---> 71\u001b[0m     dataToFit \u001b[38;5;241m=\u001b[39m \u001b[43mgetRandomMiniBatchPrepareModelFit\u001b[49m\u001b[43m(\u001b[49m\u001b[43mreplayBuffer\u001b[49m\u001b[43m,\u001b[49m\u001b[43m \u001b[49m\u001b[43mtargetModel\u001b[49m\u001b[43m,\u001b[49m\u001b[43m \u001b[49m\u001b[43mdiscountFactor\u001b[49m\u001b[43m,\u001b[49m\u001b[43m \u001b[49m\u001b[43mactions\u001b[49m\u001b[43m)\u001b[49m\n\u001b[1;32m     72\u001b[0m     \u001b[38;5;66;03m#fit the model\u001b[39;00m\n\u001b[1;32m     73\u001b[0m     model\u001b[38;5;241m.\u001b[39mfit(np\u001b[38;5;241m.\u001b[39marray(dataToFit[\u001b[38;5;241m0\u001b[39m]), np\u001b[38;5;241m.\u001b[39marray(dataToFit[\u001b[38;5;241m1\u001b[39m]), batch_size\u001b[38;5;241m=\u001b[39m\u001b[38;5;241m8\u001b[39m, epochs\u001b[38;5;241m=\u001b[39m\u001b[38;5;241m5\u001b[39m, verbose\u001b[38;5;241m=\u001b[39m\u001b[38;5;28;01mFalse\u001b[39;00m)\n",
      "Cell \u001b[0;32mIn[24], line 20\u001b[0m, in \u001b[0;36mgetRandomMiniBatchPrepareModelFit\u001b[0;34m(replayBuffer, targetModel, discountFactor, actionBinary)\u001b[0m\n\u001b[1;32m     18\u001b[0m \u001b[38;5;66;03m#get qvalue as output of Neural Network\u001b[39;00m\n\u001b[1;32m     19\u001b[0m actionQValueT \u001b[38;5;241m=\u001b[39m np\u001b[38;5;241m.\u001b[39marray([nnInput])\n\u001b[0;32m---> 20\u001b[0m actionQValue \u001b[38;5;241m=\u001b[39m \u001b[43mtargetModel\u001b[49m\u001b[38;5;241;43m.\u001b[39;49m\u001b[43mpredict\u001b[49m\u001b[43m(\u001b[49m\u001b[43mactionQValueT\u001b[49m\u001b[43m)\u001b[49m[\u001b[38;5;241m0\u001b[39m][\u001b[38;5;241m0\u001b[39m]\n\u001b[1;32m     21\u001b[0m \u001b[38;5;28;01mif\u001b[39;00m minQValue \u001b[38;5;241m>\u001b[39m actionQValue:\n\u001b[1;32m     22\u001b[0m     actionTakenIndex \u001b[38;5;241m=\u001b[39m actionIndex\n",
      "File \u001b[0;32m~/miniconda3/envs/IScaler/lib/python3.8/site-packages/tensorflow/python/keras/engine/training.py:1598\u001b[0m, in \u001b[0;36mModel.predict\u001b[0;34m(self, x, batch_size, verbose, steps, callbacks, max_queue_size, workers, use_multiprocessing)\u001b[0m\n\u001b[1;32m   1592\u001b[0m   \u001b[38;5;28;01mexcept\u001b[39;00m \u001b[38;5;167;01mValueError\u001b[39;00m:\n\u001b[1;32m   1593\u001b[0m     warnings\u001b[38;5;241m.\u001b[39mwarn(\u001b[38;5;124m'\u001b[39m\u001b[38;5;124mUsing Model.predict with \u001b[39m\u001b[38;5;124m'\u001b[39m\n\u001b[1;32m   1594\u001b[0m                   \u001b[38;5;124m'\u001b[39m\u001b[38;5;124mMultiWorkerDistributionStrategy or TPUStrategy and \u001b[39m\u001b[38;5;124m'\u001b[39m\n\u001b[1;32m   1595\u001b[0m                   \u001b[38;5;124m'\u001b[39m\u001b[38;5;124mAutoShardPolicy.FILE might lead to out-of-order result\u001b[39m\u001b[38;5;124m'\u001b[39m\n\u001b[1;32m   1596\u001b[0m                   \u001b[38;5;124m'\u001b[39m\u001b[38;5;124m. Consider setting it to AutoShardPolicy.DATA.\u001b[39m\u001b[38;5;124m'\u001b[39m)\n\u001b[0;32m-> 1598\u001b[0m data_handler \u001b[38;5;241m=\u001b[39m \u001b[43mdata_adapter\u001b[49m\u001b[38;5;241;43m.\u001b[39;49m\u001b[43mDataHandler\u001b[49m\u001b[43m(\u001b[49m\n\u001b[1;32m   1599\u001b[0m \u001b[43m    \u001b[49m\u001b[43mx\u001b[49m\u001b[38;5;241;43m=\u001b[39;49m\u001b[43mx\u001b[49m\u001b[43m,\u001b[49m\n\u001b[1;32m   1600\u001b[0m \u001b[43m    \u001b[49m\u001b[43mbatch_size\u001b[49m\u001b[38;5;241;43m=\u001b[39;49m\u001b[43mbatch_size\u001b[49m\u001b[43m,\u001b[49m\n\u001b[1;32m   1601\u001b[0m \u001b[43m    \u001b[49m\u001b[43msteps_per_epoch\u001b[49m\u001b[38;5;241;43m=\u001b[39;49m\u001b[43msteps\u001b[49m\u001b[43m,\u001b[49m\n\u001b[1;32m   1602\u001b[0m \u001b[43m    \u001b[49m\u001b[43minitial_epoch\u001b[49m\u001b[38;5;241;43m=\u001b[39;49m\u001b[38;5;241;43m0\u001b[39;49m\u001b[43m,\u001b[49m\n\u001b[1;32m   1603\u001b[0m \u001b[43m    \u001b[49m\u001b[43mepochs\u001b[49m\u001b[38;5;241;43m=\u001b[39;49m\u001b[38;5;241;43m1\u001b[39;49m\u001b[43m,\u001b[49m\n\u001b[1;32m   1604\u001b[0m \u001b[43m    \u001b[49m\u001b[43mmax_queue_size\u001b[49m\u001b[38;5;241;43m=\u001b[39;49m\u001b[43mmax_queue_size\u001b[49m\u001b[43m,\u001b[49m\n\u001b[1;32m   1605\u001b[0m \u001b[43m    \u001b[49m\u001b[43mworkers\u001b[49m\u001b[38;5;241;43m=\u001b[39;49m\u001b[43mworkers\u001b[49m\u001b[43m,\u001b[49m\n\u001b[1;32m   1606\u001b[0m \u001b[43m    \u001b[49m\u001b[43muse_multiprocessing\u001b[49m\u001b[38;5;241;43m=\u001b[39;49m\u001b[43muse_multiprocessing\u001b[49m\u001b[43m,\u001b[49m\n\u001b[1;32m   1607\u001b[0m \u001b[43m    \u001b[49m\u001b[43mmodel\u001b[49m\u001b[38;5;241;43m=\u001b[39;49m\u001b[38;5;28;43mself\u001b[39;49m\u001b[43m,\u001b[49m\n\u001b[1;32m   1608\u001b[0m \u001b[43m    \u001b[49m\u001b[43msteps_per_execution\u001b[49m\u001b[38;5;241;43m=\u001b[39;49m\u001b[38;5;28;43mself\u001b[39;49m\u001b[38;5;241;43m.\u001b[39;49m\u001b[43m_steps_per_execution\u001b[49m\u001b[43m)\u001b[49m\n\u001b[1;32m   1610\u001b[0m \u001b[38;5;66;03m# Container that configures and calls `tf.keras.Callback`s.\u001b[39;00m\n\u001b[1;32m   1611\u001b[0m \u001b[38;5;28;01mif\u001b[39;00m \u001b[38;5;129;01mnot\u001b[39;00m \u001b[38;5;28misinstance\u001b[39m(callbacks, callbacks_module\u001b[38;5;241m.\u001b[39mCallbackList):\n",
      "File \u001b[0;32m~/miniconda3/envs/IScaler/lib/python3.8/site-packages/tensorflow/python/keras/engine/data_adapter.py:1100\u001b[0m, in \u001b[0;36mDataHandler.__init__\u001b[0;34m(self, x, y, sample_weight, batch_size, steps_per_epoch, initial_epoch, epochs, shuffle, class_weight, max_queue_size, workers, use_multiprocessing, model, steps_per_execution)\u001b[0m\n\u001b[1;32m   1097\u001b[0m   \u001b[38;5;28mself\u001b[39m\u001b[38;5;241m.\u001b[39m_steps_per_execution_value \u001b[38;5;241m=\u001b[39m steps_per_execution\u001b[38;5;241m.\u001b[39mnumpy()\u001b[38;5;241m.\u001b[39mitem()\n\u001b[1;32m   1099\u001b[0m adapter_cls \u001b[38;5;241m=\u001b[39m select_data_adapter(x, y)\n\u001b[0;32m-> 1100\u001b[0m \u001b[38;5;28mself\u001b[39m\u001b[38;5;241m.\u001b[39m_adapter \u001b[38;5;241m=\u001b[39m \u001b[43madapter_cls\u001b[49m\u001b[43m(\u001b[49m\n\u001b[1;32m   1101\u001b[0m \u001b[43m    \u001b[49m\u001b[43mx\u001b[49m\u001b[43m,\u001b[49m\n\u001b[1;32m   1102\u001b[0m \u001b[43m    \u001b[49m\u001b[43my\u001b[49m\u001b[43m,\u001b[49m\n\u001b[1;32m   1103\u001b[0m \u001b[43m    \u001b[49m\u001b[43mbatch_size\u001b[49m\u001b[38;5;241;43m=\u001b[39;49m\u001b[43mbatch_size\u001b[49m\u001b[43m,\u001b[49m\n\u001b[1;32m   1104\u001b[0m \u001b[43m    \u001b[49m\u001b[43msteps\u001b[49m\u001b[38;5;241;43m=\u001b[39;49m\u001b[43msteps_per_epoch\u001b[49m\u001b[43m,\u001b[49m\n\u001b[1;32m   1105\u001b[0m \u001b[43m    \u001b[49m\u001b[43mepochs\u001b[49m\u001b[38;5;241;43m=\u001b[39;49m\u001b[43mepochs\u001b[49m\u001b[43m \u001b[49m\u001b[38;5;241;43m-\u001b[39;49m\u001b[43m \u001b[49m\u001b[43minitial_epoch\u001b[49m\u001b[43m,\u001b[49m\n\u001b[1;32m   1106\u001b[0m \u001b[43m    \u001b[49m\u001b[43msample_weights\u001b[49m\u001b[38;5;241;43m=\u001b[39;49m\u001b[43msample_weight\u001b[49m\u001b[43m,\u001b[49m\n\u001b[1;32m   1107\u001b[0m \u001b[43m    \u001b[49m\u001b[43mshuffle\u001b[49m\u001b[38;5;241;43m=\u001b[39;49m\u001b[43mshuffle\u001b[49m\u001b[43m,\u001b[49m\n\u001b[1;32m   1108\u001b[0m \u001b[43m    \u001b[49m\u001b[43mmax_queue_size\u001b[49m\u001b[38;5;241;43m=\u001b[39;49m\u001b[43mmax_queue_size\u001b[49m\u001b[43m,\u001b[49m\n\u001b[1;32m   1109\u001b[0m \u001b[43m    \u001b[49m\u001b[43mworkers\u001b[49m\u001b[38;5;241;43m=\u001b[39;49m\u001b[43mworkers\u001b[49m\u001b[43m,\u001b[49m\n\u001b[1;32m   1110\u001b[0m \u001b[43m    \u001b[49m\u001b[43muse_multiprocessing\u001b[49m\u001b[38;5;241;43m=\u001b[39;49m\u001b[43muse_multiprocessing\u001b[49m\u001b[43m,\u001b[49m\n\u001b[1;32m   1111\u001b[0m \u001b[43m    \u001b[49m\u001b[43mdistribution_strategy\u001b[49m\u001b[38;5;241;43m=\u001b[39;49m\u001b[43mds_context\u001b[49m\u001b[38;5;241;43m.\u001b[39;49m\u001b[43mget_strategy\u001b[49m\u001b[43m(\u001b[49m\u001b[43m)\u001b[49m\u001b[43m,\u001b[49m\n\u001b[1;32m   1112\u001b[0m \u001b[43m    \u001b[49m\u001b[43mmodel\u001b[49m\u001b[38;5;241;43m=\u001b[39;49m\u001b[43mmodel\u001b[49m\u001b[43m)\u001b[49m\n\u001b[1;32m   1114\u001b[0m strategy \u001b[38;5;241m=\u001b[39m ds_context\u001b[38;5;241m.\u001b[39mget_strategy()\n\u001b[1;32m   1115\u001b[0m dataset \u001b[38;5;241m=\u001b[39m \u001b[38;5;28mself\u001b[39m\u001b[38;5;241m.\u001b[39m_adapter\u001b[38;5;241m.\u001b[39mget_dataset()\n",
      "File \u001b[0;32m~/miniconda3/envs/IScaler/lib/python3.8/site-packages/tensorflow/python/keras/engine/data_adapter.py:353\u001b[0m, in \u001b[0;36mTensorLikeDataAdapter.__init__\u001b[0;34m(self, x, y, sample_weights, sample_weight_modes, batch_size, epochs, steps, shuffle, **kwargs)\u001b[0m\n\u001b[1;32m    350\u001b[0m     flat_dataset \u001b[38;5;241m=\u001b[39m flat_dataset\u001b[38;5;241m.\u001b[39mshuffle(\u001b[38;5;241m1024\u001b[39m)\u001b[38;5;241m.\u001b[39mrepeat(epochs)\n\u001b[1;32m    351\u001b[0m   \u001b[38;5;28;01mreturn\u001b[39;00m flat_dataset\n\u001b[0;32m--> 353\u001b[0m indices_dataset \u001b[38;5;241m=\u001b[39m \u001b[43mindices_dataset\u001b[49m\u001b[38;5;241;43m.\u001b[39;49m\u001b[43mflat_map\u001b[49m\u001b[43m(\u001b[49m\u001b[43mslice_batch_indices\u001b[49m\u001b[43m)\u001b[49m\n\u001b[1;32m    355\u001b[0m dataset \u001b[38;5;241m=\u001b[39m \u001b[38;5;28mself\u001b[39m\u001b[38;5;241m.\u001b[39mslice_inputs(indices_dataset, inputs)\n\u001b[1;32m    357\u001b[0m \u001b[38;5;28;01mif\u001b[39;00m shuffle \u001b[38;5;241m==\u001b[39m \u001b[38;5;124m\"\u001b[39m\u001b[38;5;124mbatch\u001b[39m\u001b[38;5;124m\"\u001b[39m:\n",
      "File \u001b[0;32m~/miniconda3/envs/IScaler/lib/python3.8/site-packages/tensorflow/python/data/ops/dataset_ops.py:1837\u001b[0m, in \u001b[0;36mDatasetV2.flat_map\u001b[0;34m(self, map_func)\u001b[0m\n\u001b[1;32m   1814\u001b[0m \u001b[38;5;28;01mdef\u001b[39;00m \u001b[38;5;21mflat_map\u001b[39m(\u001b[38;5;28mself\u001b[39m, map_func):\n\u001b[1;32m   1815\u001b[0m \u001b[38;5;250m  \u001b[39m\u001b[38;5;124;03m\"\"\"Maps `map_func` across this dataset and flattens the result.\u001b[39;00m\n\u001b[1;32m   1816\u001b[0m \n\u001b[1;32m   1817\u001b[0m \u001b[38;5;124;03m  Use `flat_map` if you want to make sure that the order of your dataset\u001b[39;00m\n\u001b[0;32m   (...)\u001b[0m\n\u001b[1;32m   1835\u001b[0m \u001b[38;5;124;03m    Dataset: A `Dataset`.\u001b[39;00m\n\u001b[1;32m   1836\u001b[0m \u001b[38;5;124;03m  \"\"\"\u001b[39;00m\n\u001b[0;32m-> 1837\u001b[0m   \u001b[38;5;28;01mreturn\u001b[39;00m \u001b[43mFlatMapDataset\u001b[49m\u001b[43m(\u001b[49m\u001b[38;5;28;43mself\u001b[39;49m\u001b[43m,\u001b[49m\u001b[43m \u001b[49m\u001b[43mmap_func\u001b[49m\u001b[43m)\u001b[49m\n",
      "File \u001b[0;32m~/miniconda3/envs/IScaler/lib/python3.8/site-packages/tensorflow/python/data/ops/dataset_ops.py:4284\u001b[0m, in \u001b[0;36mFlatMapDataset.__init__\u001b[0;34m(self, input_dataset, map_func)\u001b[0m\n\u001b[1;32m   4282\u001b[0m \u001b[38;5;250m\u001b[39m\u001b[38;5;124;03m\"\"\"See `Dataset.flat_map()` for details.\"\"\"\u001b[39;00m\n\u001b[1;32m   4283\u001b[0m \u001b[38;5;28mself\u001b[39m\u001b[38;5;241m.\u001b[39m_input_dataset \u001b[38;5;241m=\u001b[39m input_dataset\n\u001b[0;32m-> 4284\u001b[0m \u001b[38;5;28mself\u001b[39m\u001b[38;5;241m.\u001b[39m_map_func \u001b[38;5;241m=\u001b[39m \u001b[43mStructuredFunctionWrapper\u001b[49m\u001b[43m(\u001b[49m\n\u001b[1;32m   4285\u001b[0m \u001b[43m    \u001b[49m\u001b[43mmap_func\u001b[49m\u001b[43m,\u001b[49m\u001b[43m \u001b[49m\u001b[38;5;28;43mself\u001b[39;49m\u001b[38;5;241;43m.\u001b[39;49m\u001b[43m_transformation_name\u001b[49m\u001b[43m(\u001b[49m\u001b[43m)\u001b[49m\u001b[43m,\u001b[49m\u001b[43m \u001b[49m\u001b[43mdataset\u001b[49m\u001b[38;5;241;43m=\u001b[39;49m\u001b[43minput_dataset\u001b[49m\u001b[43m)\u001b[49m\n\u001b[1;32m   4286\u001b[0m \u001b[38;5;28;01mif\u001b[39;00m \u001b[38;5;129;01mnot\u001b[39;00m \u001b[38;5;28misinstance\u001b[39m(\u001b[38;5;28mself\u001b[39m\u001b[38;5;241m.\u001b[39m_map_func\u001b[38;5;241m.\u001b[39moutput_structure, DatasetSpec):\n\u001b[1;32m   4287\u001b[0m   \u001b[38;5;28;01mraise\u001b[39;00m \u001b[38;5;167;01mTypeError\u001b[39;00m(\n\u001b[1;32m   4288\u001b[0m       \u001b[38;5;124m\"\u001b[39m\u001b[38;5;124m`map_func` must return a `Dataset` object. Got \u001b[39m\u001b[38;5;132;01m{}\u001b[39;00m\u001b[38;5;124m\"\u001b[39m\u001b[38;5;241m.\u001b[39mformat(\n\u001b[1;32m   4289\u001b[0m           \u001b[38;5;28mtype\u001b[39m(\u001b[38;5;28mself\u001b[39m\u001b[38;5;241m.\u001b[39m_map_func\u001b[38;5;241m.\u001b[39moutput_structure)))\n",
      "File \u001b[0;32m~/miniconda3/envs/IScaler/lib/python3.8/site-packages/tensorflow/python/data/ops/dataset_ops.py:3525\u001b[0m, in \u001b[0;36mStructuredFunctionWrapper.__init__\u001b[0;34m(self, func, transformation_name, dataset, input_classes, input_shapes, input_types, input_structure, add_to_graph, use_legacy_function, defun_kwargs)\u001b[0m\n\u001b[1;32m   3522\u001b[0m resource_tracker \u001b[38;5;241m=\u001b[39m tracking\u001b[38;5;241m.\u001b[39mResourceTracker()\n\u001b[1;32m   3523\u001b[0m \u001b[38;5;28;01mwith\u001b[39;00m tracking\u001b[38;5;241m.\u001b[39mresource_tracker_scope(resource_tracker):\n\u001b[1;32m   3524\u001b[0m   \u001b[38;5;66;03m# TODO(b/141462134): Switch to using garbage collection.\u001b[39;00m\n\u001b[0;32m-> 3525\u001b[0m   \u001b[38;5;28mself\u001b[39m\u001b[38;5;241m.\u001b[39m_function \u001b[38;5;241m=\u001b[39m \u001b[43mwrapper_fn\u001b[49m\u001b[38;5;241;43m.\u001b[39;49m\u001b[43mget_concrete_function\u001b[49m\u001b[43m(\u001b[49m\u001b[43m)\u001b[49m\n\u001b[1;32m   3526\u001b[0m   \u001b[38;5;28;01mif\u001b[39;00m add_to_graph:\n\u001b[1;32m   3527\u001b[0m     \u001b[38;5;28mself\u001b[39m\u001b[38;5;241m.\u001b[39m_function\u001b[38;5;241m.\u001b[39madd_to_graph(ops\u001b[38;5;241m.\u001b[39mget_default_graph())\n",
      "File \u001b[0;32m~/miniconda3/envs/IScaler/lib/python3.8/site-packages/tensorflow/python/eager/function.py:3051\u001b[0m, in \u001b[0;36mFunction.get_concrete_function\u001b[0;34m(self, *args, **kwargs)\u001b[0m\n\u001b[1;32m   3044\u001b[0m \u001b[38;5;28;01mdef\u001b[39;00m \u001b[38;5;21mget_concrete_function\u001b[39m(\u001b[38;5;28mself\u001b[39m, \u001b[38;5;241m*\u001b[39margs, \u001b[38;5;241m*\u001b[39m\u001b[38;5;241m*\u001b[39mkwargs):\n\u001b[1;32m   3045\u001b[0m \u001b[38;5;250m  \u001b[39m\u001b[38;5;124;03m\"\"\"Returns a `ConcreteFunction` specialized to inputs and execution context.\u001b[39;00m\n\u001b[1;32m   3046\u001b[0m \n\u001b[1;32m   3047\u001b[0m \u001b[38;5;124;03m  Args:\u001b[39;00m\n\u001b[1;32m   3048\u001b[0m \u001b[38;5;124;03m    *args: inputs to specialize on.\u001b[39;00m\n\u001b[1;32m   3049\u001b[0m \u001b[38;5;124;03m    **kwargs: inputs to specialize on.\u001b[39;00m\n\u001b[1;32m   3050\u001b[0m \u001b[38;5;124;03m  \"\"\"\u001b[39;00m\n\u001b[0;32m-> 3051\u001b[0m   graph_function \u001b[38;5;241m=\u001b[39m \u001b[38;5;28;43mself\u001b[39;49m\u001b[38;5;241;43m.\u001b[39;49m\u001b[43m_get_concrete_function_garbage_collected\u001b[49m\u001b[43m(\u001b[49m\n\u001b[1;32m   3052\u001b[0m \u001b[43m      \u001b[49m\u001b[38;5;241;43m*\u001b[39;49m\u001b[43margs\u001b[49m\u001b[43m,\u001b[49m\u001b[43m \u001b[49m\u001b[38;5;241;43m*\u001b[39;49m\u001b[38;5;241;43m*\u001b[39;49m\u001b[43mkwargs\u001b[49m\u001b[43m)\u001b[49m\n\u001b[1;32m   3053\u001b[0m   graph_function\u001b[38;5;241m.\u001b[39m_garbage_collector\u001b[38;5;241m.\u001b[39mrelease()  \u001b[38;5;66;03m# pylint: disable=protected-access\u001b[39;00m\n\u001b[1;32m   3054\u001b[0m   \u001b[38;5;28;01mreturn\u001b[39;00m graph_function\n",
      "File \u001b[0;32m~/miniconda3/envs/IScaler/lib/python3.8/site-packages/tensorflow/python/eager/function.py:3019\u001b[0m, in \u001b[0;36mFunction._get_concrete_function_garbage_collected\u001b[0;34m(self, *args, **kwargs)\u001b[0m\n\u001b[1;32m   3017\u001b[0m   args, kwargs \u001b[38;5;241m=\u001b[39m \u001b[38;5;28;01mNone\u001b[39;00m, \u001b[38;5;28;01mNone\u001b[39;00m\n\u001b[1;32m   3018\u001b[0m \u001b[38;5;28;01mwith\u001b[39;00m \u001b[38;5;28mself\u001b[39m\u001b[38;5;241m.\u001b[39m_lock:\n\u001b[0;32m-> 3019\u001b[0m   graph_function, _ \u001b[38;5;241m=\u001b[39m \u001b[38;5;28;43mself\u001b[39;49m\u001b[38;5;241;43m.\u001b[39;49m\u001b[43m_maybe_define_function\u001b[49m\u001b[43m(\u001b[49m\u001b[43margs\u001b[49m\u001b[43m,\u001b[49m\u001b[43m \u001b[49m\u001b[43mkwargs\u001b[49m\u001b[43m)\u001b[49m\n\u001b[1;32m   3020\u001b[0m   seen_names \u001b[38;5;241m=\u001b[39m \u001b[38;5;28mset\u001b[39m()\n\u001b[1;32m   3021\u001b[0m   captured \u001b[38;5;241m=\u001b[39m object_identity\u001b[38;5;241m.\u001b[39mObjectIdentitySet(\n\u001b[1;32m   3022\u001b[0m       graph_function\u001b[38;5;241m.\u001b[39mgraph\u001b[38;5;241m.\u001b[39minternal_captures)\n",
      "File \u001b[0;32m~/miniconda3/envs/IScaler/lib/python3.8/site-packages/tensorflow/python/eager/function.py:3361\u001b[0m, in \u001b[0;36mFunction._maybe_define_function\u001b[0;34m(self, args, kwargs)\u001b[0m\n\u001b[1;32m   3357\u001b[0m   \u001b[38;5;28;01mreturn\u001b[39;00m \u001b[38;5;28mself\u001b[39m\u001b[38;5;241m.\u001b[39m_define_function_with_shape_relaxation(\n\u001b[1;32m   3358\u001b[0m       args, kwargs, flat_args, filtered_flat_args, cache_key_context)\n\u001b[1;32m   3360\u001b[0m \u001b[38;5;28mself\u001b[39m\u001b[38;5;241m.\u001b[39m_function_cache\u001b[38;5;241m.\u001b[39mmissed\u001b[38;5;241m.\u001b[39madd(call_context_key)\n\u001b[0;32m-> 3361\u001b[0m graph_function \u001b[38;5;241m=\u001b[39m \u001b[38;5;28;43mself\u001b[39;49m\u001b[38;5;241;43m.\u001b[39;49m\u001b[43m_create_graph_function\u001b[49m\u001b[43m(\u001b[49m\u001b[43margs\u001b[49m\u001b[43m,\u001b[49m\u001b[43m \u001b[49m\u001b[43mkwargs\u001b[49m\u001b[43m)\u001b[49m\n\u001b[1;32m   3362\u001b[0m \u001b[38;5;28mself\u001b[39m\u001b[38;5;241m.\u001b[39m_function_cache\u001b[38;5;241m.\u001b[39mprimary[cache_key] \u001b[38;5;241m=\u001b[39m graph_function\n\u001b[1;32m   3364\u001b[0m \u001b[38;5;28;01mreturn\u001b[39;00m graph_function, filtered_flat_args\n",
      "File \u001b[0;32m~/miniconda3/envs/IScaler/lib/python3.8/site-packages/tensorflow/python/eager/function.py:3196\u001b[0m, in \u001b[0;36mFunction._create_graph_function\u001b[0;34m(self, args, kwargs, override_flat_arg_shapes)\u001b[0m\n\u001b[1;32m   3191\u001b[0m missing_arg_names \u001b[38;5;241m=\u001b[39m [\n\u001b[1;32m   3192\u001b[0m     \u001b[38;5;124m\"\u001b[39m\u001b[38;5;132;01m%s\u001b[39;00m\u001b[38;5;124m_\u001b[39m\u001b[38;5;132;01m%d\u001b[39;00m\u001b[38;5;124m\"\u001b[39m \u001b[38;5;241m%\u001b[39m (arg, i) \u001b[38;5;28;01mfor\u001b[39;00m i, arg \u001b[38;5;129;01min\u001b[39;00m \u001b[38;5;28menumerate\u001b[39m(missing_arg_names)\n\u001b[1;32m   3193\u001b[0m ]\n\u001b[1;32m   3194\u001b[0m arg_names \u001b[38;5;241m=\u001b[39m base_arg_names \u001b[38;5;241m+\u001b[39m missing_arg_names\n\u001b[1;32m   3195\u001b[0m graph_function \u001b[38;5;241m=\u001b[39m ConcreteFunction(\n\u001b[0;32m-> 3196\u001b[0m     \u001b[43mfunc_graph_module\u001b[49m\u001b[38;5;241;43m.\u001b[39;49m\u001b[43mfunc_graph_from_py_func\u001b[49m\u001b[43m(\u001b[49m\n\u001b[1;32m   3197\u001b[0m \u001b[43m        \u001b[49m\u001b[38;5;28;43mself\u001b[39;49m\u001b[38;5;241;43m.\u001b[39;49m\u001b[43m_name\u001b[49m\u001b[43m,\u001b[49m\n\u001b[1;32m   3198\u001b[0m \u001b[43m        \u001b[49m\u001b[38;5;28;43mself\u001b[39;49m\u001b[38;5;241;43m.\u001b[39;49m\u001b[43m_python_function\u001b[49m\u001b[43m,\u001b[49m\n\u001b[1;32m   3199\u001b[0m \u001b[43m        \u001b[49m\u001b[43margs\u001b[49m\u001b[43m,\u001b[49m\n\u001b[1;32m   3200\u001b[0m \u001b[43m        \u001b[49m\u001b[43mkwargs\u001b[49m\u001b[43m,\u001b[49m\n\u001b[1;32m   3201\u001b[0m \u001b[43m        \u001b[49m\u001b[38;5;28;43mself\u001b[39;49m\u001b[38;5;241;43m.\u001b[39;49m\u001b[43minput_signature\u001b[49m\u001b[43m,\u001b[49m\n\u001b[1;32m   3202\u001b[0m \u001b[43m        \u001b[49m\u001b[43mautograph\u001b[49m\u001b[38;5;241;43m=\u001b[39;49m\u001b[38;5;28;43mself\u001b[39;49m\u001b[38;5;241;43m.\u001b[39;49m\u001b[43m_autograph\u001b[49m\u001b[43m,\u001b[49m\n\u001b[1;32m   3203\u001b[0m \u001b[43m        \u001b[49m\u001b[43mautograph_options\u001b[49m\u001b[38;5;241;43m=\u001b[39;49m\u001b[38;5;28;43mself\u001b[39;49m\u001b[38;5;241;43m.\u001b[39;49m\u001b[43m_autograph_options\u001b[49m\u001b[43m,\u001b[49m\n\u001b[1;32m   3204\u001b[0m \u001b[43m        \u001b[49m\u001b[43marg_names\u001b[49m\u001b[38;5;241;43m=\u001b[39;49m\u001b[43marg_names\u001b[49m\u001b[43m,\u001b[49m\n\u001b[1;32m   3205\u001b[0m \u001b[43m        \u001b[49m\u001b[43moverride_flat_arg_shapes\u001b[49m\u001b[38;5;241;43m=\u001b[39;49m\u001b[43moverride_flat_arg_shapes\u001b[49m\u001b[43m,\u001b[49m\n\u001b[1;32m   3206\u001b[0m \u001b[43m        \u001b[49m\u001b[43mcapture_by_value\u001b[49m\u001b[38;5;241;43m=\u001b[39;49m\u001b[38;5;28;43mself\u001b[39;49m\u001b[38;5;241;43m.\u001b[39;49m\u001b[43m_capture_by_value\u001b[49m\u001b[43m)\u001b[49m,\n\u001b[1;32m   3207\u001b[0m     \u001b[38;5;28mself\u001b[39m\u001b[38;5;241m.\u001b[39m_function_attributes,\n\u001b[1;32m   3208\u001b[0m     function_spec\u001b[38;5;241m=\u001b[39m\u001b[38;5;28mself\u001b[39m\u001b[38;5;241m.\u001b[39mfunction_spec,\n\u001b[1;32m   3209\u001b[0m     \u001b[38;5;66;03m# Tell the ConcreteFunction to clean up its graph once it goes out of\u001b[39;00m\n\u001b[1;32m   3210\u001b[0m     \u001b[38;5;66;03m# scope. This is not the default behavior since it gets used in some\u001b[39;00m\n\u001b[1;32m   3211\u001b[0m     \u001b[38;5;66;03m# places (like Keras) where the FuncGraph lives longer than the\u001b[39;00m\n\u001b[1;32m   3212\u001b[0m     \u001b[38;5;66;03m# ConcreteFunction.\u001b[39;00m\n\u001b[1;32m   3213\u001b[0m     shared_func_graph\u001b[38;5;241m=\u001b[39m\u001b[38;5;28;01mFalse\u001b[39;00m)\n\u001b[1;32m   3214\u001b[0m \u001b[38;5;28;01mreturn\u001b[39;00m graph_function\n",
      "File \u001b[0;32m~/miniconda3/envs/IScaler/lib/python3.8/site-packages/tensorflow/python/framework/func_graph.py:990\u001b[0m, in \u001b[0;36mfunc_graph_from_py_func\u001b[0;34m(name, python_func, args, kwargs, signature, func_graph, autograph, autograph_options, add_control_dependencies, arg_names, op_return_value, collections, capture_by_value, override_flat_arg_shapes)\u001b[0m\n\u001b[1;32m    987\u001b[0m \u001b[38;5;28;01melse\u001b[39;00m:\n\u001b[1;32m    988\u001b[0m   _, original_func \u001b[38;5;241m=\u001b[39m tf_decorator\u001b[38;5;241m.\u001b[39munwrap(python_func)\n\u001b[0;32m--> 990\u001b[0m func_outputs \u001b[38;5;241m=\u001b[39m \u001b[43mpython_func\u001b[49m\u001b[43m(\u001b[49m\u001b[38;5;241;43m*\u001b[39;49m\u001b[43mfunc_args\u001b[49m\u001b[43m,\u001b[49m\u001b[43m \u001b[49m\u001b[38;5;241;43m*\u001b[39;49m\u001b[38;5;241;43m*\u001b[39;49m\u001b[43mfunc_kwargs\u001b[49m\u001b[43m)\u001b[49m\n\u001b[1;32m    992\u001b[0m \u001b[38;5;66;03m# invariant: `func_outputs` contains only Tensors, CompositeTensors,\u001b[39;00m\n\u001b[1;32m    993\u001b[0m \u001b[38;5;66;03m# TensorArrays and `None`s.\u001b[39;00m\n\u001b[1;32m    994\u001b[0m func_outputs \u001b[38;5;241m=\u001b[39m nest\u001b[38;5;241m.\u001b[39mmap_structure(convert, func_outputs,\n\u001b[1;32m    995\u001b[0m                                   expand_composites\u001b[38;5;241m=\u001b[39m\u001b[38;5;28;01mTrue\u001b[39;00m)\n",
      "File \u001b[0;32m~/miniconda3/envs/IScaler/lib/python3.8/site-packages/tensorflow/python/data/ops/dataset_ops.py:3518\u001b[0m, in \u001b[0;36mStructuredFunctionWrapper.__init__.<locals>.wrapper_fn\u001b[0;34m(*args)\u001b[0m\n\u001b[1;32m   3512\u001b[0m \u001b[38;5;129m@eager_function\u001b[39m\u001b[38;5;241m.\u001b[39mdefun_with_attributes(\n\u001b[1;32m   3513\u001b[0m     input_signature\u001b[38;5;241m=\u001b[39mstructure\u001b[38;5;241m.\u001b[39mget_flat_tensor_specs(\n\u001b[1;32m   3514\u001b[0m         \u001b[38;5;28mself\u001b[39m\u001b[38;5;241m.\u001b[39m_input_structure),\n\u001b[1;32m   3515\u001b[0m     autograph\u001b[38;5;241m=\u001b[39m\u001b[38;5;28;01mFalse\u001b[39;00m,\n\u001b[1;32m   3516\u001b[0m     attributes\u001b[38;5;241m=\u001b[39mdefun_kwargs)\n\u001b[1;32m   3517\u001b[0m \u001b[38;5;28;01mdef\u001b[39;00m \u001b[38;5;21mwrapper_fn\u001b[39m(\u001b[38;5;241m*\u001b[39margs):  \u001b[38;5;66;03m# pylint: disable=missing-docstring\u001b[39;00m\n\u001b[0;32m-> 3518\u001b[0m   ret \u001b[38;5;241m=\u001b[39m \u001b[43m_wrapper_helper\u001b[49m\u001b[43m(\u001b[49m\u001b[38;5;241;43m*\u001b[39;49m\u001b[43margs\u001b[49m\u001b[43m)\u001b[49m\n\u001b[1;32m   3519\u001b[0m   ret \u001b[38;5;241m=\u001b[39m structure\u001b[38;5;241m.\u001b[39mto_tensor_list(\u001b[38;5;28mself\u001b[39m\u001b[38;5;241m.\u001b[39m_output_structure, ret)\n\u001b[1;32m   3520\u001b[0m   \u001b[38;5;28;01mreturn\u001b[39;00m [ops\u001b[38;5;241m.\u001b[39mconvert_to_tensor(t) \u001b[38;5;28;01mfor\u001b[39;00m t \u001b[38;5;129;01min\u001b[39;00m ret]\n",
      "File \u001b[0;32m~/miniconda3/envs/IScaler/lib/python3.8/site-packages/tensorflow/python/data/ops/dataset_ops.py:3453\u001b[0m, in \u001b[0;36mStructuredFunctionWrapper.__init__.<locals>._wrapper_helper\u001b[0;34m(*args)\u001b[0m\n\u001b[1;32m   3450\u001b[0m \u001b[38;5;28;01mif\u001b[39;00m \u001b[38;5;129;01mnot\u001b[39;00m _should_unpack_args(nested_args):\n\u001b[1;32m   3451\u001b[0m   nested_args \u001b[38;5;241m=\u001b[39m (nested_args,)\n\u001b[0;32m-> 3453\u001b[0m ret \u001b[38;5;241m=\u001b[39m \u001b[43mautograph\u001b[49m\u001b[38;5;241;43m.\u001b[39;49m\u001b[43mtf_convert\u001b[49m\u001b[43m(\u001b[49m\u001b[43mfunc\u001b[49m\u001b[43m,\u001b[49m\u001b[43m \u001b[49m\u001b[43mag_ctx\u001b[49m\u001b[43m)\u001b[49m\u001b[43m(\u001b[49m\u001b[38;5;241;43m*\u001b[39;49m\u001b[43mnested_args\u001b[49m\u001b[43m)\u001b[49m\n\u001b[1;32m   3454\u001b[0m \u001b[38;5;66;03m# If `func` returns a list of tensors, `nest.flatten()` and\u001b[39;00m\n\u001b[1;32m   3455\u001b[0m \u001b[38;5;66;03m# `ops.convert_to_tensor()` would conspire to attempt to stack\u001b[39;00m\n\u001b[1;32m   3456\u001b[0m \u001b[38;5;66;03m# those tensors into a single tensor, because the customized\u001b[39;00m\n\u001b[0;32m   (...)\u001b[0m\n\u001b[1;32m   3462\u001b[0m \u001b[38;5;66;03m# the return value into a single tensor can use an explicit\u001b[39;00m\n\u001b[1;32m   3463\u001b[0m \u001b[38;5;66;03m# `tf.stack()` before returning.\u001b[39;00m\n\u001b[1;32m   3464\u001b[0m \u001b[38;5;28;01mif\u001b[39;00m \u001b[38;5;28misinstance\u001b[39m(ret, \u001b[38;5;28mlist\u001b[39m):\n",
      "File \u001b[0;32m~/miniconda3/envs/IScaler/lib/python3.8/site-packages/tensorflow/python/autograph/impl/api.py:667\u001b[0m, in \u001b[0;36mconvert.<locals>.decorator.<locals>.wrapper\u001b[0;34m(*args, **kwargs)\u001b[0m\n\u001b[1;32m    665\u001b[0m \u001b[38;5;28;01mtry\u001b[39;00m:\n\u001b[1;32m    666\u001b[0m   \u001b[38;5;28;01mwith\u001b[39;00m conversion_ctx:\n\u001b[0;32m--> 667\u001b[0m     \u001b[38;5;28;01mreturn\u001b[39;00m \u001b[43mconverted_call\u001b[49m\u001b[43m(\u001b[49m\u001b[43mf\u001b[49m\u001b[43m,\u001b[49m\u001b[43m \u001b[49m\u001b[43margs\u001b[49m\u001b[43m,\u001b[49m\u001b[43m \u001b[49m\u001b[43mkwargs\u001b[49m\u001b[43m,\u001b[49m\u001b[43m \u001b[49m\u001b[43moptions\u001b[49m\u001b[38;5;241;43m=\u001b[39;49m\u001b[43moptions\u001b[49m\u001b[43m)\u001b[49m\n\u001b[1;32m    668\u001b[0m \u001b[38;5;28;01mexcept\u001b[39;00m \u001b[38;5;167;01mException\u001b[39;00m \u001b[38;5;28;01mas\u001b[39;00m e:  \u001b[38;5;66;03m# pylint:disable=broad-except\u001b[39;00m\n\u001b[1;32m    669\u001b[0m   \u001b[38;5;28;01mif\u001b[39;00m \u001b[38;5;28mhasattr\u001b[39m(e, \u001b[38;5;124m'\u001b[39m\u001b[38;5;124mag_error_metadata\u001b[39m\u001b[38;5;124m'\u001b[39m):\n",
      "File \u001b[0;32m~/miniconda3/envs/IScaler/lib/python3.8/site-packages/tensorflow/python/autograph/impl/api.py:396\u001b[0m, in \u001b[0;36mconverted_call\u001b[0;34m(f, args, kwargs, caller_fn_scope, options)\u001b[0m\n\u001b[1;32m    393\u001b[0m   \u001b[38;5;28;01mreturn\u001b[39;00m _call_unconverted(f, args, kwargs, options)\n\u001b[1;32m    395\u001b[0m \u001b[38;5;28;01mif\u001b[39;00m \u001b[38;5;129;01mnot\u001b[39;00m options\u001b[38;5;241m.\u001b[39muser_requested \u001b[38;5;129;01mand\u001b[39;00m conversion\u001b[38;5;241m.\u001b[39mis_allowlisted(f):\n\u001b[0;32m--> 396\u001b[0m   \u001b[38;5;28;01mreturn\u001b[39;00m \u001b[43m_call_unconverted\u001b[49m\u001b[43m(\u001b[49m\u001b[43mf\u001b[49m\u001b[43m,\u001b[49m\u001b[43m \u001b[49m\u001b[43margs\u001b[49m\u001b[43m,\u001b[49m\u001b[43m \u001b[49m\u001b[43mkwargs\u001b[49m\u001b[43m,\u001b[49m\u001b[43m \u001b[49m\u001b[43moptions\u001b[49m\u001b[43m)\u001b[49m\n\u001b[1;32m    398\u001b[0m \u001b[38;5;66;03m# internal_convert_user_code is for example turned off when issuing a dynamic\u001b[39;00m\n\u001b[1;32m    399\u001b[0m \u001b[38;5;66;03m# call conversion from generated code while in nonrecursive mode. In that\u001b[39;00m\n\u001b[1;32m    400\u001b[0m \u001b[38;5;66;03m# case we evidently don't want to recurse, but we still have to convert\u001b[39;00m\n\u001b[1;32m    401\u001b[0m \u001b[38;5;66;03m# things like builtins.\u001b[39;00m\n\u001b[1;32m    402\u001b[0m \u001b[38;5;28;01mif\u001b[39;00m \u001b[38;5;129;01mnot\u001b[39;00m options\u001b[38;5;241m.\u001b[39minternal_convert_user_code:\n",
      "File \u001b[0;32m~/miniconda3/envs/IScaler/lib/python3.8/site-packages/tensorflow/python/autograph/impl/api.py:478\u001b[0m, in \u001b[0;36m_call_unconverted\u001b[0;34m(f, args, kwargs, options, update_cache)\u001b[0m\n\u001b[1;32m    475\u001b[0m   \u001b[38;5;28;01mreturn\u001b[39;00m f\u001b[38;5;241m.\u001b[39m\u001b[38;5;18m__self__\u001b[39m\u001b[38;5;241m.\u001b[39mcall(args, kwargs)\n\u001b[1;32m    477\u001b[0m \u001b[38;5;28;01mif\u001b[39;00m kwargs \u001b[38;5;129;01mis\u001b[39;00m \u001b[38;5;129;01mnot\u001b[39;00m \u001b[38;5;28;01mNone\u001b[39;00m:\n\u001b[0;32m--> 478\u001b[0m   \u001b[38;5;28;01mreturn\u001b[39;00m \u001b[43mf\u001b[49m\u001b[43m(\u001b[49m\u001b[38;5;241;43m*\u001b[39;49m\u001b[43margs\u001b[49m\u001b[43m,\u001b[49m\u001b[43m \u001b[49m\u001b[38;5;241;43m*\u001b[39;49m\u001b[38;5;241;43m*\u001b[39;49m\u001b[43mkwargs\u001b[49m\u001b[43m)\u001b[49m\n\u001b[1;32m    479\u001b[0m \u001b[38;5;28;01mreturn\u001b[39;00m f(\u001b[38;5;241m*\u001b[39margs)\n",
      "File \u001b[0;32m~/miniconda3/envs/IScaler/lib/python3.8/site-packages/tensorflow/python/keras/engine/data_adapter.py:344\u001b[0m, in \u001b[0;36mTensorLikeDataAdapter.__init__.<locals>.slice_batch_indices\u001b[0;34m(indices)\u001b[0m\n\u001b[1;32m    342\u001b[0m flat_dataset \u001b[38;5;241m=\u001b[39m dataset_ops\u001b[38;5;241m.\u001b[39mDatasetV2\u001b[38;5;241m.\u001b[39mfrom_tensor_slices(first_k_indices)\n\u001b[1;32m    343\u001b[0m \u001b[38;5;28;01mif\u001b[39;00m \u001b[38;5;28mself\u001b[39m\u001b[38;5;241m.\u001b[39m_partial_batch_size:\n\u001b[0;32m--> 344\u001b[0m   index_remainder \u001b[38;5;241m=\u001b[39m \u001b[43mdataset_ops\u001b[49m\u001b[38;5;241;43m.\u001b[39;49m\u001b[43mDatasetV2\u001b[49m\u001b[38;5;241;43m.\u001b[39;49m\u001b[43mfrom_tensors\u001b[49m\u001b[43m(\u001b[49m\u001b[43marray_ops\u001b[49m\u001b[38;5;241;43m.\u001b[39;49m\u001b[43mslice\u001b[49m\u001b[43m(\u001b[49m\n\u001b[1;32m    345\u001b[0m \u001b[43m      \u001b[49m\u001b[43mindices\u001b[49m\u001b[43m,\u001b[49m\u001b[43m \u001b[49m\u001b[43m[\u001b[49m\u001b[43mnum_in_full_batch\u001b[49m\u001b[43m]\u001b[49m\u001b[43m,\u001b[49m\u001b[43m \u001b[49m\u001b[43m[\u001b[49m\u001b[38;5;28;43mself\u001b[39;49m\u001b[38;5;241;43m.\u001b[39;49m\u001b[43m_partial_batch_size\u001b[49m\u001b[43m]\u001b[49m\u001b[43m)\u001b[49m\u001b[43m)\u001b[49m\n\u001b[1;32m    346\u001b[0m   flat_dataset \u001b[38;5;241m=\u001b[39m flat_dataset\u001b[38;5;241m.\u001b[39mconcatenate(index_remainder)\n\u001b[1;32m    348\u001b[0m \u001b[38;5;28;01mif\u001b[39;00m shuffle \u001b[38;5;241m==\u001b[39m \u001b[38;5;124m\"\u001b[39m\u001b[38;5;124mbatch\u001b[39m\u001b[38;5;124m\"\u001b[39m:\n\u001b[1;32m    349\u001b[0m   \u001b[38;5;66;03m# 1024 is a magic constant that has not been properly evaluated\u001b[39;00m\n",
      "File \u001b[0;32m~/miniconda3/envs/IScaler/lib/python3.8/site-packages/tensorflow/python/data/ops/dataset_ops.py:613\u001b[0m, in \u001b[0;36mDatasetV2.from_tensors\u001b[0;34m(tensors)\u001b[0m\n\u001b[1;32m    578\u001b[0m \u001b[38;5;129m@staticmethod\u001b[39m\n\u001b[1;32m    579\u001b[0m \u001b[38;5;28;01mdef\u001b[39;00m \u001b[38;5;21mfrom_tensors\u001b[39m(tensors):\n\u001b[1;32m    580\u001b[0m \u001b[38;5;250m  \u001b[39m\u001b[38;5;124;03m\"\"\"Creates a `Dataset` with a single element, comprising the given tensors.\u001b[39;00m\n\u001b[1;32m    581\u001b[0m \n\u001b[1;32m    582\u001b[0m \u001b[38;5;124;03m  `from_tensors` produces a dataset containing only a single element. To slice\u001b[39;00m\n\u001b[0;32m   (...)\u001b[0m\n\u001b[1;32m    611\u001b[0m \u001b[38;5;124;03m    Dataset: A `Dataset`.\u001b[39;00m\n\u001b[1;32m    612\u001b[0m \u001b[38;5;124;03m  \"\"\"\u001b[39;00m\n\u001b[0;32m--> 613\u001b[0m   \u001b[38;5;28;01mreturn\u001b[39;00m \u001b[43mTensorDataset\u001b[49m\u001b[43m(\u001b[49m\u001b[43mtensors\u001b[49m\u001b[43m)\u001b[49m\n",
      "File \u001b[0;32m~/miniconda3/envs/IScaler/lib/python3.8/site-packages/tensorflow/python/data/ops/dataset_ops.py:3140\u001b[0m, in \u001b[0;36mTensorDataset.__init__\u001b[0;34m(self, element)\u001b[0m\n\u001b[1;32m   3137\u001b[0m \u001b[38;5;28mself\u001b[39m\u001b[38;5;241m.\u001b[39m_structure \u001b[38;5;241m=\u001b[39m structure\u001b[38;5;241m.\u001b[39mtype_spec_from_value(element)\n\u001b[1;32m   3138\u001b[0m \u001b[38;5;28mself\u001b[39m\u001b[38;5;241m.\u001b[39m_tensors \u001b[38;5;241m=\u001b[39m structure\u001b[38;5;241m.\u001b[39mto_tensor_list(\u001b[38;5;28mself\u001b[39m\u001b[38;5;241m.\u001b[39m_structure, element)\n\u001b[0;32m-> 3140\u001b[0m variant_tensor \u001b[38;5;241m=\u001b[39m \u001b[43mgen_dataset_ops\u001b[49m\u001b[38;5;241;43m.\u001b[39;49m\u001b[43mtensor_dataset\u001b[49m\u001b[43m(\u001b[49m\n\u001b[1;32m   3141\u001b[0m \u001b[43m    \u001b[49m\u001b[38;5;28;43mself\u001b[39;49m\u001b[38;5;241;43m.\u001b[39;49m\u001b[43m_tensors\u001b[49m\u001b[43m,\u001b[49m\n\u001b[1;32m   3142\u001b[0m \u001b[43m    \u001b[49m\u001b[43moutput_shapes\u001b[49m\u001b[38;5;241;43m=\u001b[39;49m\u001b[43mstructure\u001b[49m\u001b[38;5;241;43m.\u001b[39;49m\u001b[43mget_flat_tensor_shapes\u001b[49m\u001b[43m(\u001b[49m\u001b[38;5;28;43mself\u001b[39;49m\u001b[38;5;241;43m.\u001b[39;49m\u001b[43m_structure\u001b[49m\u001b[43m)\u001b[49m\u001b[43m)\u001b[49m\n\u001b[1;32m   3143\u001b[0m \u001b[38;5;28msuper\u001b[39m(TensorDataset, \u001b[38;5;28mself\u001b[39m)\u001b[38;5;241m.\u001b[39m\u001b[38;5;21m__init__\u001b[39m(variant_tensor)\n",
      "File \u001b[0;32m~/miniconda3/envs/IScaler/lib/python3.8/site-packages/tensorflow/python/ops/gen_dataset_ops.py:6705\u001b[0m, in \u001b[0;36mtensor_dataset\u001b[0;34m(components, output_shapes, name)\u001b[0m\n\u001b[1;32m   6701\u001b[0m   \u001b[38;5;28;01mraise\u001b[39;00m \u001b[38;5;167;01mTypeError\u001b[39;00m(\n\u001b[1;32m   6702\u001b[0m       \u001b[38;5;124m\"\u001b[39m\u001b[38;5;124mExpected list for \u001b[39m\u001b[38;5;124m'\u001b[39m\u001b[38;5;124moutput_shapes\u001b[39m\u001b[38;5;124m'\u001b[39m\u001b[38;5;124m argument to \u001b[39m\u001b[38;5;124m\"\u001b[39m\n\u001b[1;32m   6703\u001b[0m       \u001b[38;5;124m\"\u001b[39m\u001b[38;5;124m'\u001b[39m\u001b[38;5;124mtensor_dataset\u001b[39m\u001b[38;5;124m'\u001b[39m\u001b[38;5;124m Op, not \u001b[39m\u001b[38;5;132;01m%r\u001b[39;00m\u001b[38;5;124m.\u001b[39m\u001b[38;5;124m\"\u001b[39m \u001b[38;5;241m%\u001b[39m output_shapes)\n\u001b[1;32m   6704\u001b[0m output_shapes \u001b[38;5;241m=\u001b[39m [_execute\u001b[38;5;241m.\u001b[39mmake_shape(_s, \u001b[38;5;124m\"\u001b[39m\u001b[38;5;124moutput_shapes\u001b[39m\u001b[38;5;124m\"\u001b[39m) \u001b[38;5;28;01mfor\u001b[39;00m _s \u001b[38;5;129;01min\u001b[39;00m output_shapes]\n\u001b[0;32m-> 6705\u001b[0m _, _, _op, _outputs \u001b[38;5;241m=\u001b[39m \u001b[43m_op_def_library\u001b[49m\u001b[38;5;241;43m.\u001b[39;49m\u001b[43m_apply_op_helper\u001b[49m\u001b[43m(\u001b[49m\n\u001b[1;32m   6706\u001b[0m \u001b[43m      \u001b[49m\u001b[38;5;124;43m\"\u001b[39;49m\u001b[38;5;124;43mTensorDataset\u001b[39;49m\u001b[38;5;124;43m\"\u001b[39;49m\u001b[43m,\u001b[49m\u001b[43m \u001b[49m\u001b[43mcomponents\u001b[49m\u001b[38;5;241;43m=\u001b[39;49m\u001b[43mcomponents\u001b[49m\u001b[43m,\u001b[49m\u001b[43m \u001b[49m\u001b[43moutput_shapes\u001b[49m\u001b[38;5;241;43m=\u001b[39;49m\u001b[43moutput_shapes\u001b[49m\u001b[43m,\u001b[49m\n\u001b[1;32m   6707\u001b[0m \u001b[43m                       \u001b[49m\u001b[43mname\u001b[49m\u001b[38;5;241;43m=\u001b[39;49m\u001b[43mname\u001b[49m\u001b[43m)\u001b[49m\n\u001b[1;32m   6708\u001b[0m _result \u001b[38;5;241m=\u001b[39m _outputs[:]\n\u001b[1;32m   6709\u001b[0m \u001b[38;5;28;01mif\u001b[39;00m _execute\u001b[38;5;241m.\u001b[39mmust_record_gradient():\n",
      "File \u001b[0;32m~/miniconda3/envs/IScaler/lib/python3.8/site-packages/tensorflow/python/framework/op_def_library.py:689\u001b[0m, in \u001b[0;36m_apply_op_helper\u001b[0;34m(op_type_name, name, **keywords)\u001b[0m\n\u001b[1;32m    687\u001b[0m \u001b[38;5;66;03m# Convert attr values to AttrValue protos.\u001b[39;00m\n\u001b[1;32m    688\u001b[0m attr_protos \u001b[38;5;241m=\u001b[39m {}\n\u001b[0;32m--> 689\u001b[0m \u001b[38;5;28;01mfor\u001b[39;00m attr_def \u001b[38;5;129;01min\u001b[39;00m op_def\u001b[38;5;241m.\u001b[39mattr:\n\u001b[1;32m    690\u001b[0m   key \u001b[38;5;241m=\u001b[39m attr_def\u001b[38;5;241m.\u001b[39mname\n\u001b[1;32m    691\u001b[0m   value \u001b[38;5;241m=\u001b[39m attrs[key]\n",
      "\u001b[0;31mKeyboardInterrupt\u001b[0m: "
     ]
    }
   ],
   "source": [
    "for _ in tqdm(range(100)):# episode\n",
    "    for _ in tqdm(range(300)):\n",
    "        # Apply e-greedy policy\n",
    "        k = k + 1\n",
    "        minQValue = False\n",
    "        e = 1000 / (1000 + counter12)\n",
    "        randomValue = random.random()\n",
    "        if randomValue <= (1 - e):\n",
    "            minQValue = True\n",
    "        minQValueSample = sys.maxsize\n",
    "        actionTakenIndex = 0\n",
    "        act = getPossibleActionsFromState(state, container, hosts, actions)\n",
    "        \n",
    "        if len(act) == 0:\n",
    "            state = getNewRandomState(hosts, responseList, resourceLoadHosts, container)\n",
    "            continue\n",
    "        if minQValue:\n",
    "            # retrieve the action with minimum Q-value from the source network\n",
    "            actionTakenIndex = 0\n",
    "            isZeroMin = True\n",
    "            for actionIndex in range(len(act)):\n",
    "                newPL = copy.deepcopy(state[1])\n",
    "                newPL[state[4]][state[3]] = round(newPL[state[4]][state[3]] + act[actionIndex], 2)\n",
    "                toTrain = (state[0], newPL, state[2], state[3], state[4])\n",
    "                nnInput = getNNInput(toTrain, act[actionIndex])\n",
    "                actionQValueT = np.array([nnInput])\n",
    "                actionQValue = model.predict(actionQValueT)[0][0]\n",
    "                if minQValueSample >= actionQValue:\n",
    "                    actionTakenIndex = actions.index(act[actionIndex])\n",
    "                    minQValueSample = actionQValue\n",
    "                    isZeroMin = False\n",
    "        else:\n",
    "            isZeroMin = True\n",
    "        if isZeroMin:\n",
    "            randIndex = random.randrange(len(act))\n",
    "            actionTakenIndex = actions.index(act[randIndex])\n",
    "        actionTaken = actions[actionTakenIndex]\n",
    "        previousAction = actionTaken\n",
    "        previousState = state\n",
    "        \n",
    "        #Apply the selected action and observe the next state.\n",
    "        statex = getNextState(p, responseList, resourceLoadHosts, state, actionTaken, hosts, container)\n",
    "        \n",
    "        state = statex\n",
    "\n",
    "        stateCost = totalCost(state, previousState, actionTaken, hosts, container, 0.2, 0.5, 0.15, 0.15)\n",
    "        \n",
    "        # If decisions are made for all services for the current timestep, store values for visualisation\n",
    "        if state[4] == 0:\n",
    "            gh = 0\n",
    "            for po in state[1]:\n",
    "                gh = gh + po[state[3]]\n",
    "            resultsResponsesList1.append([state[0][state[3]], gh, state[3]])\n",
    "            resultsResourcesList1.append(resourcesResult(state[1], state[2], container))\n",
    "            costsList.append(stateCost)\n",
    "            if state[3] == 0:\n",
    "                costsListC1.append(stateCost)\n",
    "            if state[3] == 1:\n",
    "                costsListC2.append(stateCost)\n",
    "            if state[3] == 2:\n",
    "                costsListC3.append(stateCost)\n",
    "            p = p + 1\n",
    "        #store transmission in replay buffer\n",
    "        replayBuffer.append([previousState, actionTaken, stateCost, state])\n",
    "        if len(replayBuffer) > 1000:\n",
    "            #replace the old items in the buffer by new ones\n",
    "            replayBuffer.pop(0)\n",
    "        #retrieve minibatch from replay buffer\n",
    "        if len(replayBuffer) > 100:\n",
    "            #get 1000 random transitions and prepare for model fit\n",
    "            dataToFit = getRandomMiniBatchPrepareModelFit(replayBuffer, targetModel, discountFactor, actions)\n",
    "            #fit the model\n",
    "            model.fit(np.array(dataToFit[0]), np.array(dataToFit[1]), batch_size=8, epochs=5, verbose=False)\n",
    "        if k%600 == 0:\n",
    "            #replace weights every 600 iterations\n",
    "            modelWeights = []\n",
    "            for layer in model.layers:\n",
    "                modelWeights.append(layer.get_weights())\n",
    "            counterWeights = 0\n",
    "            for layer in targetModel.layers:\n",
    "                layer.set_weights(modelWeights[counterWeights])\n",
    "                counterWeights = counterWeights + 1\n",
    "        counter12 = counter12 + 1\n",
    "    episode = episode + 1"
   ]
  },
  {
   "cell_type": "markdown",
   "metadata": {},
   "source": [
    "# Visualize the average cost produced"
   ]
  },
  {
   "cell_type": "code",
   "execution_count": 28,
   "metadata": {},
   "outputs": [],
   "source": [
    "averagedCostList = []\n",
    "counter = 0\n",
    "sumCosts = 0\n",
    "for aCost in costsList:\n",
    "    sumCosts = sumCosts + aCost\n",
    "    counter = counter + 1\n",
    "    if counter == 300:\n",
    "        averagedCostList.append(sumCosts/100.0)\n",
    "        sumCosts = 0\n",
    "        counter = 0"
   ]
  },
  {
   "cell_type": "code",
   "execution_count": 29,
   "metadata": {},
   "outputs": [],
   "source": [
    "iterations = range(len(averagedCostList))\n",
    "costs = averagedCostList\n",
    "data = {\n",
    "    'iterations': iterations, \n",
    "    'cost': costs,\n",
    "}\n",
    "df = pd.DataFrame(data=data)"
   ]
  },
  {
   "cell_type": "code",
   "execution_count": 30,
   "metadata": {},
   "outputs": [
    {
     "data": {
      "image/png": "[encoded data removed]",
      "text/plain": [
       "<Figure size 3000x700 with 1 Axes>"
      ]
     },
     "metadata": {},
     "output_type": "display_data"
    }
   ],
   "source": [
    "_, ax = plt.subplots(figsize=(30, 7))\n",
    "ax.set(xscale=\"log\", yscale=\"linear\")\n",
    "ax.set_title(\"algorithm performance\")\n",
    "sns.lineplot(x=\"iterations\", y=\"cost\", data=df, ax=ax)\n",
    "ax.set_xlabel(\"Number of iterations\")\n",
    "ax.set_ylabel(\"Cost\")\n",
    "ax.xaxis.grid(True)\n",
    "ax.set_xlabel(\"Number of iterations\", fontsize=24)\n",
    "ax.set_ylabel(\"Averaged Cost\",fontsize=24)\n",
    "ax.grid()\n",
    "ax.xaxis.grid(True, color='black', linestyle='dotted')\n",
    "ax.yaxis.grid(True, color='black', linestyle='dotted')\n",
    "xticks = ax.xaxis.get_major_ticks()\n",
    "yticks = ax.yaxis.get_major_ticks()\n",
    "for tick in xticks:\n",
    "    tick.label1.set_fontsize(20)\n",
    "#    tick.label1.set_rotation(45)\n",
    "for tick in yticks:\n",
    "    tick.label1.set_fontsize(20)\n",
    "ax.tick_params(width=6, colors='black')\n",
    "ax.spines['bottom'].set_color('black')\n",
    "ax.spines['top'].set_color('black')\n",
    "ax.spines['left'].set_color('black')\n",
    "ax.spines['right'].set_color('black')"
   ]
  },
  {
   "cell_type": "markdown",
   "metadata": {},
   "source": [
    "## Feel free to plot the rest of the results"
   ]
  }
 ],
 "metadata": {
  "kernelspec": {
   "display_name": "Python 3 (ipykernel)",
   "language": "python",
   "name": "python3"
  },
  "language_info": {
   "codemirror_mode": {
    "name": "ipython",
    "version": 3
   },
   "file_extension": ".py",
   "mimetype": "text/x-python",
   "name": "python",
   "nbconvert_exporter": "python",
   "pygments_lexer": "ipython3",
   "version": "3.8.17"
  }
 },
 "nbformat": 4,
 "nbformat_minor": 2
}
